{
 "cells": [
  {
   "cell_type": "code",
   "execution_count": 1,
   "id": "f2e602e4",
   "metadata": {},
   "outputs": [],
   "source": [
    "import pandas as pd\n",
    "import numpy as np\n",
    "import random\n",
    "import json\n",
    "import redis\n",
    "\n",
    "import openai\n",
    "# openai.api_key = "
   ]
  },
  {
   "cell_type": "markdown",
   "id": "a5857f89",
   "metadata": {},
   "source": [
    "## Fine-tuning"
   ]
  },
  {
   "cell_type": "code",
   "execution_count": 2,
   "id": "480265dc",
   "metadata": {},
   "outputs": [
    {
     "name": "stdout",
     "output_type": "stream",
     "text": [
      "Requirement already satisfied: openai in /Users/elainewei/opt/anaconda3/lib/python3.9/site-packages (0.27.5)\n",
      "Requirement already satisfied: requests>=2.20 in /Users/elainewei/opt/anaconda3/lib/python3.9/site-packages (from openai) (2.26.0)\n",
      "Requirement already satisfied: tqdm in /Users/elainewei/opt/anaconda3/lib/python3.9/site-packages (from openai) (4.62.3)\n",
      "Requirement already satisfied: aiohttp in /Users/elainewei/opt/anaconda3/lib/python3.9/site-packages (from openai) (3.8.4)\n",
      "Requirement already satisfied: urllib3<1.27,>=1.21.1 in /Users/elainewei/opt/anaconda3/lib/python3.9/site-packages (from requests>=2.20->openai) (1.26.7)\n",
      "Requirement already satisfied: idna<4,>=2.5 in /Users/elainewei/opt/anaconda3/lib/python3.9/site-packages (from requests>=2.20->openai) (3.2)\n",
      "Requirement already satisfied: charset-normalizer~=2.0.0 in /Users/elainewei/opt/anaconda3/lib/python3.9/site-packages (from requests>=2.20->openai) (2.0.4)\n",
      "Requirement already satisfied: certifi>=2017.4.17 in /Users/elainewei/opt/anaconda3/lib/python3.9/site-packages (from requests>=2.20->openai) (2021.10.8)\n",
      "Requirement already satisfied: yarl<2.0,>=1.0 in /Users/elainewei/opt/anaconda3/lib/python3.9/site-packages (from aiohttp->openai) (1.8.2)\n",
      "Requirement already satisfied: async-timeout<5.0,>=4.0.0a3 in /Users/elainewei/opt/anaconda3/lib/python3.9/site-packages (from aiohttp->openai) (4.0.2)\n",
      "Requirement already satisfied: aiosignal>=1.1.2 in /Users/elainewei/opt/anaconda3/lib/python3.9/site-packages (from aiohttp->openai) (1.3.1)\n",
      "Requirement already satisfied: attrs>=17.3.0 in /Users/elainewei/opt/anaconda3/lib/python3.9/site-packages (from aiohttp->openai) (21.2.0)\n",
      "Requirement already satisfied: multidict<7.0,>=4.5 in /Users/elainewei/opt/anaconda3/lib/python3.9/site-packages (from aiohttp->openai) (6.0.4)\n",
      "Requirement already satisfied: frozenlist>=1.1.1 in /Users/elainewei/opt/anaconda3/lib/python3.9/site-packages (from aiohttp->openai) (1.3.3)\n"
     ]
    }
   ],
   "source": [
    "!pip install --upgrade openai"
   ]
  },
  {
   "cell_type": "code",
   "execution_count": 3,
   "id": "35ffdb72",
   "metadata": {},
   "outputs": [
    {
     "name": "stdout",
     "output_type": "stream",
     "text": [
      "Analyzing...\n",
      "\n",
      "- Your file contains 10 prompt-completion pairs. In general, we recommend having at least a few hundred examples. We've found that performance tends to linearly increase for every doubling of the number of examples\n",
      "- All prompts end with suffix `.\\n\\n###\\n\\n`\n",
      "- All prompts start with prefix `A `\n",
      "- All completions end with suffix `\\n###`\n",
      "\n",
      "No remediations found.\n",
      "\n",
      "You can use your file for fine-tuning:\n",
      "> openai api fine_tunes.create -t \"sampletables.jsonl\"\n",
      "\n",
      "After you’ve fine-tuned a model, remember that your prompt has to end with the indicator string `.\\n\\n###\\n\\n` for the model to start generating completions, rather than continuing with the prompt. Make sure to include `stop=[\"\\n###\"]` so that the generated texts ends at the expected place.\n",
      "Once your model starts training, it'll approximately take 2.58 minutes to train a `curie` model, and less for `ada` and `babbage`. Queue will approximately take half an hour per job ahead of you.\n"
     ]
    }
   ],
   "source": [
    "!openai tools fine_tunes.prepare_data -f sampletables.jsonl -q"
   ]
  },
  {
   "cell_type": "code",
   "execution_count": 11,
   "id": "86d1e5c0",
   "metadata": {},
   "outputs": [
    {
     "name": "stdout",
     "output_type": "stream",
     "text": [
      "\u001b[91mError:\u001b[0m No API key provided. You can set your API key in code using 'openai.api_key = <API-KEY>', or you can set the environment variable OPENAI_API_KEY=<API-KEY>). If your API key is stored in a file, you can point the openai module at it with 'openai.api_key_path = <PATH>'. You can generate API keys in the OpenAI web interface. See https://platform.openai.com/account/api-keys for details, or email support@openai.com if you have any questions.\n"
     ]
    }
   ],
   "source": [
    "!openai api fine_tunes.create -t \"sampletables.jsonl\""
   ]
  },
  {
   "cell_type": "code",
   "execution_count": 5,
   "id": "6ee1664d",
   "metadata": {},
   "outputs": [],
   "source": [
    "# caching\n",
    "redis_client = redis.Redis(host = 'localhost', port = 6379, db = 0)"
   ]
  },
  {
   "cell_type": "code",
   "execution_count": 6,
   "id": "68d17023",
   "metadata": {},
   "outputs": [
    {
     "data": {
      "text/html": [
       "<div>\n",
       "<style scoped>\n",
       "    .dataframe tbody tr th:only-of-type {\n",
       "        vertical-align: middle;\n",
       "    }\n",
       "\n",
       "    .dataframe tbody tr th {\n",
       "        vertical-align: top;\n",
       "    }\n",
       "\n",
       "    .dataframe thead th {\n",
       "        text-align: right;\n",
       "    }\n",
       "</style>\n",
       "<table border=\"1\" class=\"dataframe\">\n",
       "  <thead>\n",
       "    <tr style=\"text-align: right;\">\n",
       "      <th></th>\n",
       "      <th>usCongressBioId</th>\n",
       "      <th>profileText</th>\n",
       "    </tr>\n",
       "  </thead>\n",
       "  <tbody>\n",
       "    <tr>\n",
       "      <th>0</th>\n",
       "      <td>W000374</td>\n",
       "      <td>A Representative from Kansas; born near Fairfi...</td>\n",
       "    </tr>\n",
       "    <tr>\n",
       "      <th>1</th>\n",
       "      <td>L000226</td>\n",
       "      <td>A Representative from Florida; born in Selma, ...</td>\n",
       "    </tr>\n",
       "    <tr>\n",
       "      <th>2</th>\n",
       "      <td>F000260</td>\n",
       "      <td>A Representative from Michigan, Vice President...</td>\n",
       "    </tr>\n",
       "    <tr>\n",
       "      <th>3</th>\n",
       "      <td>M000777</td>\n",
       "      <td>A Representative and a Senator from Texas; bor...</td>\n",
       "    </tr>\n",
       "    <tr>\n",
       "      <th>4</th>\n",
       "      <td>W000724</td>\n",
       "      <td>A Representative from Ohio; born in Johnstown,...</td>\n",
       "    </tr>\n",
       "  </tbody>\n",
       "</table>\n",
       "</div>"
      ],
      "text/plain": [
       "  usCongressBioId                                        profileText\n",
       "0         W000374  A Representative from Kansas; born near Fairfi...\n",
       "1         L000226  A Representative from Florida; born in Selma, ...\n",
       "2         F000260  A Representative from Michigan, Vice President...\n",
       "3         M000777  A Representative and a Senator from Texas; bor...\n",
       "4         W000724  A Representative from Ohio; born in Johnstown,..."
      ]
     },
     "execution_count": 6,
     "metadata": {},
     "output_type": "execute_result"
    }
   ],
   "source": [
    "df = pd.read_csv('results/bioguide.csv')\n",
    "df = df[['usCongressBioId', 'profileText']]\n",
    "df.head()"
   ]
  },
  {
   "cell_type": "code",
   "execution_count": 7,
   "id": "854a7dc0",
   "metadata": {},
   "outputs": [],
   "source": [
    "sample_number = 10\n",
    "bio_sample = df.sample(n=sample_number, random_state=123)\n",
    "bio_sample.to_csv('results/samplebios.csv', index=False)"
   ]
  },
  {
   "cell_type": "code",
   "execution_count": 8,
   "id": "da8349dd",
   "metadata": {},
   "outputs": [],
   "source": [
    "def gen_table(id, bio, update=None):\n",
    "    \"\"\"\n",
    "    Takes in a bio, let chatGPT generate the table, and outputs the table\n",
    "    \"\"\"\n",
    "    table_key = f\"politician_{id}\"\n",
    "    table = redis_client.get(table_key)\n",
    "\n",
    "    if update:\n",
    "        table = None\n",
    "\n",
    "    if not table:\n",
    "        print('Could not find table in cache. Retrieving from Chat GPT API...')\n",
    "        prompt = prompt_pre + bio\n",
    "        completion = openai.ChatCompletion.create(\n",
    "            model='gpt-3.5-turbo', \n",
    "            messages=[{'role':'user', 'content': prompt}]\n",
    "        )\n",
    "\n",
    "        table = completion.choices[0].message.content\n",
    "        redis_client.set(table_key, json.dumps(table))\n",
    "    \n",
    "    else:\n",
    "        print('Found table in cache, serving from redis...')\n",
    "        table = json.loads(table)\n",
    "\n",
    "    return table"
   ]
  },
  {
   "cell_type": "code",
   "execution_count": 9,
   "id": "d5b77c79",
   "metadata": {},
   "outputs": [
    {
     "ename": "NameError",
     "evalue": "name 'prompt_pre' is not defined",
     "output_type": "error",
     "traceback": [
      "\u001b[0;31m---------------------------------------------------------------------------\u001b[0m",
      "\u001b[0;31mNameError\u001b[0m                                 Traceback (most recent call last)",
      "\u001b[0;32m/var/folders/6b/l8cgp_y91pz6_17n81klfkw80000gn/T/ipykernel_38975/3205322865.py\u001b[0m in \u001b[0;36m<module>\u001b[0;34m\u001b[0m\n\u001b[0;32m----> 1\u001b[0;31m \u001b[0mquery\u001b[0m \u001b[0;34m=\u001b[0m \u001b[0mprompt_pre\u001b[0m \u001b[0;34m+\u001b[0m \u001b[0msample_bio\u001b[0m\u001b[0;34m\u001b[0m\u001b[0;34m\u001b[0m\u001b[0m\n\u001b[0m",
      "\u001b[0;31mNameError\u001b[0m: name 'prompt_pre' is not defined"
     ]
    }
   ],
   "source": [
    "\n",
    "query = prompt_pre + sample_bio"
   ]
  },
  {
   "cell_type": "code",
   "execution_count": null,
   "id": "42602cd0",
   "metadata": {},
   "outputs": [],
   "source": [
    "completion = openai.ChatCompletion.create(\n",
    "    model='gpt-3.5-turbo', \n",
    "    messages=[{'role':'user', 'content': query}]\n",
    "\n",
    ")\n",
    "print(completion)"
   ]
  },
  {
   "cell_type": "code",
   "execution_count": null,
   "id": "646bf0f7",
   "metadata": {},
   "outputs": [],
   "source": [
    "df = pd.read_csv('results/bioguide.csv')\n",
    "df.head()"
   ]
  },
  {
   "cell_type": "code",
   "execution_count": null,
   "id": "25f90fd1",
   "metadata": {},
   "outputs": [],
   "source": [
    "ids = df.usCongressBioId.tolist()\n",
    "sample_ids = random.sample(ids, 10)\n",
    "sample_bios = [df.loc[df['usCongressBioId'] == id].iloc[0]['profileText'] for id in sample_ids]"
   ]
  },
  {
   "cell_type": "code",
   "execution_count": null,
   "id": "abf6da41",
   "metadata": {},
   "outputs": [],
   "source": [
    "tables = []\n",
    "for i in range(len(sample_ids)):\n",
    "    table = gen_table(sample_ids[i], sample_bios[i])\n",
    "    tables.append(table)\n",
    "\n",
    "for table in tables:\n",
    "    print(table)"
   ]
  },
  {
   "cell_type": "code",
   "execution_count": null,
   "id": "d1daad11",
   "metadata": {},
   "outputs": [],
   "source": [
    "sample = ''\n",
    "for i in range(len(tables)):\n",
    "    sample += sample_ids[i] + '\\n'\n",
    "    sample += sample_bios[i] + '\\n'\n",
    "    sample += tables[i] + '\\n'\n",
    "print(sample)\n"
   ]
  },
  {
   "cell_type": "code",
   "execution_count": null,
   "id": "c8bb1f2b",
   "metadata": {},
   "outputs": [],
   "source": [
    "len(tables)"
   ]
  },
  {
   "cell_type": "code",
   "execution_count": null,
   "id": "08607517",
   "metadata": {},
   "outputs": [],
   "source": [
    "with open('sampletables.txt', 'w') as f:\n",
    "    f.write(sample)"
   ]
  }
 ],
 "metadata": {
  "@webio": {
   "lastCommId": null,
   "lastKernelId": null
  },
  "kernelspec": {
   "display_name": "Python 3.9.7 ('base')",
   "language": "python",
   "name": "python3"
  },
  "language_info": {
   "codemirror_mode": {
    "name": "ipython",
    "version": 3
   },
   "file_extension": ".py",
   "mimetype": "text/x-python",
   "name": "python",
   "nbconvert_exporter": "python",
   "pygments_lexer": "ipython3",
   "version": "3.9.7"
  },
  "toc": {
   "base_numbering": 1,
   "nav_menu": {},
   "number_sections": true,
   "sideBar": true,
   "skip_h1_title": false,
   "title_cell": "Table of Contents",
   "title_sidebar": "Contents",
   "toc_cell": false,
   "toc_position": {},
   "toc_section_display": true,
   "toc_window_display": false
  },
  "vscode": {
   "interpreter": {
    "hash": "526a3113e883f61beef86ede594754d8bd591cb31b4b3261c1dfaa691314bdad"
   }
  }
 },
 "nbformat": 4,
 "nbformat_minor": 5
}
