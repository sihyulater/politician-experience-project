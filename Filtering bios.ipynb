{
 "cells": [
  {
   "cell_type": "code",
   "execution_count": 1,
   "metadata": {},
   "outputs": [],
   "source": [
    "import pandas as pd\n",
    "import numpy as np\n",
    "import random\n",
    "\n",
    "random.seed(123)"
   ]
  },
  {
   "cell_type": "code",
   "execution_count": 2,
   "metadata": {},
   "outputs": [],
   "source": [
    "df = pd.read_csv(\"results/bioguide.csv\")"
   ]
  },
  {
   "cell_type": "markdown",
   "metadata": {},
   "source": [
    "## Filtering Birth Year After 1900"
   ]
  },
  {
   "cell_type": "code",
   "execution_count": 3,
   "metadata": {},
   "outputs": [],
   "source": [
    "# subsample of birth after 1900\n",
    "\n",
    "birthdates = df[\"birthDate\"]\n",
    "birthyear = [0]*df.shape[0]\n",
    "\n",
    "# Collecting birthyears\n",
    "for i, birthdate in zip(birthdates.index, birthdates):\n",
    "    # nan\n",
    "    if pd.isna(birthdate):\n",
    "        birthyear[i] = float(\"nan\")\n",
    "    \n",
    "    else:\n",
    "        birthdate = birthdate.strip()\n",
    "        birthyear[i] = int(birthdate[:4])\n",
    "\n",
    "df = pd.concat([df, pd.DataFrame(birthyear, columns=[\"birth year\"])], axis=1)\n",
    "df_b1900 = df[df[\"birth year\"] > 1900]"
   ]
  },
  {
   "cell_type": "code",
   "execution_count": 4,
   "metadata": {},
   "outputs": [
    {
     "data": {
      "text/plain": [
       "(3125, 22)"
      ]
     },
     "execution_count": 4,
     "metadata": {},
     "output_type": "execute_result"
    }
   ],
   "source": [
    "df_b1900.shape"
   ]
  },
  {
   "cell_type": "code",
   "execution_count": 5,
   "metadata": {},
   "outputs": [],
   "source": [
    "# randomly select sample by id, and find the bios with respect to those ids\n",
    "ids = df_b1900.usCongressBioId.tolist()\n",
    "sample_ids = random.sample(ids, 100)\n",
    "sample_bios = [df_b1900.loc[df_b1900['usCongressBioId'] == id].iloc[0]['profileText'] for id in sample_ids]"
   ]
  },
  {
   "cell_type": "code",
   "execution_count": 6,
   "metadata": {},
   "outputs": [],
   "source": [
    "df_sample_bio = pd.DataFrame(list(zip(sample_ids, sample_bios)), columns=['id', 'bio'])"
   ]
  },
  {
   "cell_type": "code",
   "execution_count": 7,
   "metadata": {},
   "outputs": [
    {
     "data": {
      "text/html": [
       "<div>\n",
       "<style scoped>\n",
       "    .dataframe tbody tr th:only-of-type {\n",
       "        vertical-align: middle;\n",
       "    }\n",
       "\n",
       "    .dataframe tbody tr th {\n",
       "        vertical-align: top;\n",
       "    }\n",
       "\n",
       "    .dataframe thead th {\n",
       "        text-align: right;\n",
       "    }\n",
       "</style>\n",
       "<table border=\"1\" class=\"dataframe\">\n",
       "  <thead>\n",
       "    <tr style=\"text-align: right;\">\n",
       "      <th></th>\n",
       "      <th>id</th>\n",
       "      <th>bio</th>\n",
       "    </tr>\n",
       "  </thead>\n",
       "  <tbody>\n",
       "    <tr>\n",
       "      <th>0</th>\n",
       "      <td>C000312</td>\n",
       "      <td>A Representative from Texas; born in Washingto...</td>\n",
       "    </tr>\n",
       "    <tr>\n",
       "      <th>1</th>\n",
       "      <td>B001259</td>\n",
       "      <td>A Representative from Iowa; born in Grinnell, ...</td>\n",
       "    </tr>\n",
       "    <tr>\n",
       "      <th>2</th>\n",
       "      <td>S000844</td>\n",
       "      <td>A Representative from Maryland; born in Glen R...</td>\n",
       "    </tr>\n",
       "    <tr>\n",
       "      <th>3</th>\n",
       "      <td>N000033</td>\n",
       "      <td>A Senator from Wisconsin; born in Clear Lake, ...</td>\n",
       "    </tr>\n",
       "    <tr>\n",
       "      <th>4</th>\n",
       "      <td>F000088</td>\n",
       "      <td>A Representative from New York; born in Newbur...</td>\n",
       "    </tr>\n",
       "    <tr>\n",
       "      <th>...</th>\n",
       "      <td>...</td>\n",
       "      <td>...</td>\n",
       "    </tr>\n",
       "    <tr>\n",
       "      <th>95</th>\n",
       "      <td>S001191</td>\n",
       "      <td>A Senator and a Representative from Arizona; b...</td>\n",
       "    </tr>\n",
       "    <tr>\n",
       "      <th>96</th>\n",
       "      <td>S000068</td>\n",
       "      <td>A Senator from Tennessee; born in Memphis, She...</td>\n",
       "    </tr>\n",
       "    <tr>\n",
       "      <th>97</th>\n",
       "      <td>P000555</td>\n",
       "      <td>A Representative from Ohio; born in Warren, Tr...</td>\n",
       "    </tr>\n",
       "    <tr>\n",
       "      <th>98</th>\n",
       "      <td>F000085</td>\n",
       "      <td>A Representative from New Mexico; born in Spri...</td>\n",
       "    </tr>\n",
       "    <tr>\n",
       "      <th>99</th>\n",
       "      <td>H000269</td>\n",
       "      <td>A Representative from Pennsylvania; born in Wa...</td>\n",
       "    </tr>\n",
       "  </tbody>\n",
       "</table>\n",
       "<p>100 rows × 2 columns</p>\n",
       "</div>"
      ],
      "text/plain": [
       "         id                                                bio\n",
       "0   C000312  A Representative from Texas; born in Washingto...\n",
       "1   B001259  A Representative from Iowa; born in Grinnell, ...\n",
       "2   S000844  A Representative from Maryland; born in Glen R...\n",
       "3   N000033  A Senator from Wisconsin; born in Clear Lake, ...\n",
       "4   F000088  A Representative from New York; born in Newbur...\n",
       "..      ...                                                ...\n",
       "95  S001191  A Senator and a Representative from Arizona; b...\n",
       "96  S000068  A Senator from Tennessee; born in Memphis, She...\n",
       "97  P000555  A Representative from Ohio; born in Warren, Tr...\n",
       "98  F000085  A Representative from New Mexico; born in Spri...\n",
       "99  H000269  A Representative from Pennsylvania; born in Wa...\n",
       "\n",
       "[100 rows x 2 columns]"
      ]
     },
     "execution_count": 7,
     "metadata": {},
     "output_type": "execute_result"
    }
   ],
   "source": [
    "df_sample_bio"
   ]
  },
  {
   "cell_type": "code",
   "execution_count": 8,
   "metadata": {},
   "outputs": [],
   "source": [
    "df_b1900.to_csv(\"results/bioguide_a1900.csv\", index=False)\n",
    "df_sample_bio.to_csv(\"results/sample_bios.csv\", index=False)"
   ]
  },
  {
   "cell_type": "markdown",
   "metadata": {},
   "source": [
    "## Filtering roll call after the 102nd Congress"
   ]
  },
  {
   "cell_type": "markdown",
   "metadata": {},
   "source": [
    "### small sample for 102nd house congress"
   ]
  },
  {
   "cell_type": "code",
   "execution_count": 9,
   "metadata": {},
   "outputs": [],
   "source": [
    "df_voteh102 = pd.read_csv(\"H102_votes.csv\")"
   ]
  },
  {
   "cell_type": "code",
   "execution_count": 10,
   "metadata": {},
   "outputs": [
    {
     "name": "stdout",
     "output_type": "stream",
     "text": [
      "147\n"
     ]
    }
   ],
   "source": [
    "# Are the representatives the same for each roll call?\n",
    "# collect the icpsrs for each roll number and compare them\n",
    "\n",
    "grouped = df_voteh102.groupby(df_voteh102.rollnumber)\n",
    "different_set = 0\n",
    "member = set(grouped.get_group(1).icpsr)\n",
    "for rollnumber, group in grouped:\n",
    "    if member != set(group.icpsr):\n",
    "        different_set += 1\n",
    "    member = set(group.icpsr)\n",
    "print(different_set)\n",
    "    "
   ]
  },
  {
   "cell_type": "code",
   "execution_count": 11,
   "metadata": {},
   "outputs": [
    {
     "data": {
      "text/plain": [
       "442"
      ]
     },
     "execution_count": 11,
     "metadata": {},
     "output_type": "execute_result"
    }
   ],
   "source": [
    "# find the union for all rolls\n",
    "\n",
    "attendence = set(grouped.get_group(1).icpsr)\n",
    "for rollnumber, group in grouped:\n",
    "    attendence = attendence.union(set(group.icpsr))\n",
    "len(attendence)"
   ]
  },
  {
   "cell_type": "markdown",
   "metadata": {},
   "source": [
    "### Full sample of congresses after 102nd"
   ]
  },
  {
   "cell_type": "code",
   "execution_count": 12,
   "metadata": {},
   "outputs": [],
   "source": [
    "df_vote = pd.read_csv(\"HSall_votes.csv\")"
   ]
  },
  {
   "cell_type": "code",
   "execution_count": 13,
   "metadata": {},
   "outputs": [],
   "source": [
    "df_vote = df_vote[df_vote['congress'] >= 102]"
   ]
  },
  {
   "cell_type": "code",
   "execution_count": 14,
   "metadata": {},
   "outputs": [
    {
     "data": {
      "text/html": [
       "<div>\n",
       "<style scoped>\n",
       "    .dataframe tbody tr th:only-of-type {\n",
       "        vertical-align: middle;\n",
       "    }\n",
       "\n",
       "    .dataframe tbody tr th {\n",
       "        vertical-align: top;\n",
       "    }\n",
       "\n",
       "    .dataframe thead th {\n",
       "        text-align: right;\n",
       "    }\n",
       "</style>\n",
       "<table border=\"1\" class=\"dataframe\">\n",
       "  <thead>\n",
       "    <tr style=\"text-align: right;\">\n",
       "      <th></th>\n",
       "      <th>congress</th>\n",
       "      <th>chamber</th>\n",
       "      <th>rollnumber</th>\n",
       "      <th>icpsr</th>\n",
       "      <th>cast_code</th>\n",
       "      <th>prob</th>\n",
       "    </tr>\n",
       "  </thead>\n",
       "  <tbody>\n",
       "    <tr>\n",
       "      <th>15702267</th>\n",
       "      <td>102</td>\n",
       "      <td>House</td>\n",
       "      <td>1</td>\n",
       "      <td>633.0</td>\n",
       "      <td>1.0</td>\n",
       "      <td>99.5</td>\n",
       "    </tr>\n",
       "    <tr>\n",
       "      <th>15702268</th>\n",
       "      <td>102</td>\n",
       "      <td>House</td>\n",
       "      <td>1</td>\n",
       "      <td>1077.0</td>\n",
       "      <td>1.0</td>\n",
       "      <td>100.0</td>\n",
       "    </tr>\n",
       "    <tr>\n",
       "      <th>15702269</th>\n",
       "      <td>102</td>\n",
       "      <td>House</td>\n",
       "      <td>1</td>\n",
       "      <td>1087.0</td>\n",
       "      <td>6.0</td>\n",
       "      <td>99.6</td>\n",
       "    </tr>\n",
       "    <tr>\n",
       "      <th>15702270</th>\n",
       "      <td>102</td>\n",
       "      <td>House</td>\n",
       "      <td>1</td>\n",
       "      <td>2009.0</td>\n",
       "      <td>6.0</td>\n",
       "      <td>74.1</td>\n",
       "    </tr>\n",
       "    <tr>\n",
       "      <th>15702271</th>\n",
       "      <td>102</td>\n",
       "      <td>House</td>\n",
       "      <td>1</td>\n",
       "      <td>2605.0</td>\n",
       "      <td>1.0</td>\n",
       "      <td>100.0</td>\n",
       "    </tr>\n",
       "  </tbody>\n",
       "</table>\n",
       "</div>"
      ],
      "text/plain": [
       "          congress chamber  rollnumber   icpsr  cast_code   prob\n",
       "15702267       102   House           1   633.0        1.0   99.5\n",
       "15702268       102   House           1  1077.0        1.0  100.0\n",
       "15702269       102   House           1  1087.0        6.0   99.6\n",
       "15702270       102   House           1  2009.0        6.0   74.1\n",
       "15702271       102   House           1  2605.0        1.0  100.0"
      ]
     },
     "execution_count": 14,
     "metadata": {},
     "output_type": "execute_result"
    }
   ],
   "source": [
    "df_vote.head()"
   ]
  },
  {
   "cell_type": "code",
   "execution_count": 15,
   "metadata": {},
   "outputs": [],
   "source": [
    "def find_attendance(df):\n",
    "    grouped = df.groupby(df.rollnumber)\n",
    "    attendence = set(grouped.get_group(1).icpsr)\n",
    "    for rollnumber, group in grouped:\n",
    "        attendence = attendence.union(set(group.icpsr))\n",
    "    return attendence"
   ]
  },
  {
   "cell_type": "code",
   "execution_count": 16,
   "metadata": {},
   "outputs": [],
   "source": [
    "congresses = df_vote.groupby(['congress', 'chamber'])\n",
    "attendance_lists = {}\n",
    "for name, congress in congresses:\n",
    "    key = str(name[1]) + str(name[0])\n",
    "    attendance = find_attendance(congress)\n",
    "    attendance_lists[key] = attendance\n"
   ]
  },
  {
   "cell_type": "code",
   "execution_count": 17,
   "metadata": {},
   "outputs": [
    {
     "data": {
      "text/html": [
       "<div>\n",
       "<style scoped>\n",
       "    .dataframe tbody tr th:only-of-type {\n",
       "        vertical-align: middle;\n",
       "    }\n",
       "\n",
       "    .dataframe tbody tr th {\n",
       "        vertical-align: top;\n",
       "    }\n",
       "\n",
       "    .dataframe thead th {\n",
       "        text-align: right;\n",
       "    }\n",
       "</style>\n",
       "<table border=\"1\" class=\"dataframe\">\n",
       "  <thead>\n",
       "    <tr style=\"text-align: right;\">\n",
       "      <th></th>\n",
       "      <th>congress</th>\n",
       "      <th>attendee</th>\n",
       "    </tr>\n",
       "  </thead>\n",
       "  <tbody>\n",
       "    <tr>\n",
       "      <th>0</th>\n",
       "      <td>House102</td>\n",
       "      <td>14402</td>\n",
       "    </tr>\n",
       "    <tr>\n",
       "      <th>1</th>\n",
       "      <td>House102</td>\n",
       "      <td>14404</td>\n",
       "    </tr>\n",
       "    <tr>\n",
       "      <th>2</th>\n",
       "      <td>House102</td>\n",
       "      <td>14405</td>\n",
       "    </tr>\n",
       "    <tr>\n",
       "      <th>3</th>\n",
       "      <td>House102</td>\n",
       "      <td>14407</td>\n",
       "    </tr>\n",
       "    <tr>\n",
       "      <th>4</th>\n",
       "      <td>House102</td>\n",
       "      <td>14410</td>\n",
       "    </tr>\n",
       "  </tbody>\n",
       "</table>\n",
       "</div>"
      ],
      "text/plain": [
       "   congress  attendee\n",
       "0  House102     14402\n",
       "1  House102     14404\n",
       "2  House102     14405\n",
       "3  House102     14407\n",
       "4  House102     14410"
      ]
     },
     "execution_count": 17,
     "metadata": {},
     "output_type": "execute_result"
    }
   ],
   "source": [
    "congress_name = []\n",
    "attendees = []\n",
    "for congress in attendance_lists:\n",
    "    for attendee in attendance_lists[congress]:\n",
    "        congress_name.append(congress)\n",
    "        attendees.append(int(attendee))\n",
    "\n",
    "df_attendance = pd.DataFrame({'congress': congress_name, 'attendee': attendees})\n",
    "df_attendance.head()"
   ]
  },
  {
   "cell_type": "code",
   "execution_count": 18,
   "metadata": {},
   "outputs": [
    {
     "data": {
      "text/html": [
       "<div>\n",
       "<style scoped>\n",
       "    .dataframe tbody tr th:only-of-type {\n",
       "        vertical-align: middle;\n",
       "    }\n",
       "\n",
       "    .dataframe tbody tr th {\n",
       "        vertical-align: top;\n",
       "    }\n",
       "\n",
       "    .dataframe thead th {\n",
       "        text-align: right;\n",
       "    }\n",
       "</style>\n",
       "<table border=\"1\" class=\"dataframe\">\n",
       "  <thead>\n",
       "    <tr style=\"text-align: right;\">\n",
       "      <th></th>\n",
       "      <th>congress</th>\n",
       "      <th>attendee</th>\n",
       "    </tr>\n",
       "  </thead>\n",
       "  <tbody>\n",
       "    <tr>\n",
       "      <th>0</th>\n",
       "      <td>House102</td>\n",
       "      <td>14402</td>\n",
       "    </tr>\n",
       "    <tr>\n",
       "      <th>1</th>\n",
       "      <td>House102</td>\n",
       "      <td>14404</td>\n",
       "    </tr>\n",
       "    <tr>\n",
       "      <th>2</th>\n",
       "      <td>House102</td>\n",
       "      <td>14405</td>\n",
       "    </tr>\n",
       "    <tr>\n",
       "      <th>3</th>\n",
       "      <td>House102</td>\n",
       "      <td>14407</td>\n",
       "    </tr>\n",
       "    <tr>\n",
       "      <th>4</th>\n",
       "      <td>House102</td>\n",
       "      <td>14410</td>\n",
       "    </tr>\n",
       "    <tr>\n",
       "      <th>...</th>\n",
       "      <td>...</td>\n",
       "      <td>...</td>\n",
       "    </tr>\n",
       "    <tr>\n",
       "      <th>437</th>\n",
       "      <td>House102</td>\n",
       "      <td>14274</td>\n",
       "    </tr>\n",
       "    <tr>\n",
       "      <th>438</th>\n",
       "      <td>House102</td>\n",
       "      <td>14277</td>\n",
       "    </tr>\n",
       "    <tr>\n",
       "      <th>439</th>\n",
       "      <td>House102</td>\n",
       "      <td>14280</td>\n",
       "    </tr>\n",
       "    <tr>\n",
       "      <th>440</th>\n",
       "      <td>House102</td>\n",
       "      <td>14288</td>\n",
       "    </tr>\n",
       "    <tr>\n",
       "      <th>441</th>\n",
       "      <td>House102</td>\n",
       "      <td>2009</td>\n",
       "    </tr>\n",
       "  </tbody>\n",
       "</table>\n",
       "<p>442 rows × 2 columns</p>\n",
       "</div>"
      ],
      "text/plain": [
       "     congress  attendee\n",
       "0    House102     14402\n",
       "1    House102     14404\n",
       "2    House102     14405\n",
       "3    House102     14407\n",
       "4    House102     14410\n",
       "..        ...       ...\n",
       "437  House102     14274\n",
       "438  House102     14277\n",
       "439  House102     14280\n",
       "440  House102     14288\n",
       "441  House102      2009\n",
       "\n",
       "[442 rows x 2 columns]"
      ]
     },
     "execution_count": 18,
     "metadata": {},
     "output_type": "execute_result"
    }
   ],
   "source": [
    "df_attendance[df_attendance['congress']=='House102']"
   ]
  },
  {
   "cell_type": "markdown",
   "metadata": {},
   "source": [
    "### Match ICPSR ID to Bioguide ID"
   ]
  },
  {
   "cell_type": "markdown",
   "metadata": {},
   "source": [
    "#### Preparing crosswalk"
   ]
  },
  {
   "cell_type": "code",
   "execution_count": 19,
   "metadata": {},
   "outputs": [],
   "source": [
    "members = pd.read_csv('HSall_members.csv')"
   ]
  },
  {
   "cell_type": "code",
   "execution_count": 20,
   "metadata": {},
   "outputs": [
    {
     "data": {
      "text/html": [
       "<div>\n",
       "<style scoped>\n",
       "    .dataframe tbody tr th:only-of-type {\n",
       "        vertical-align: middle;\n",
       "    }\n",
       "\n",
       "    .dataframe tbody tr th {\n",
       "        vertical-align: top;\n",
       "    }\n",
       "\n",
       "    .dataframe thead th {\n",
       "        text-align: right;\n",
       "    }\n",
       "</style>\n",
       "<table border=\"1\" class=\"dataframe\">\n",
       "  <thead>\n",
       "    <tr style=\"text-align: right;\">\n",
       "      <th></th>\n",
       "      <th>icpsr</th>\n",
       "      <th>bioguide_id</th>\n",
       "    </tr>\n",
       "  </thead>\n",
       "  <tbody>\n",
       "    <tr>\n",
       "      <th>0</th>\n",
       "      <td>99869</td>\n",
       "      <td>NaN</td>\n",
       "    </tr>\n",
       "    <tr>\n",
       "      <th>1</th>\n",
       "      <td>379</td>\n",
       "      <td>B000084</td>\n",
       "    </tr>\n",
       "    <tr>\n",
       "      <th>2</th>\n",
       "      <td>4854</td>\n",
       "      <td>J000017</td>\n",
       "    </tr>\n",
       "    <tr>\n",
       "      <th>3</th>\n",
       "      <td>6071</td>\n",
       "      <td>M000234</td>\n",
       "    </tr>\n",
       "    <tr>\n",
       "      <th>4</th>\n",
       "      <td>1538</td>\n",
       "      <td>C000187</td>\n",
       "    </tr>\n",
       "  </tbody>\n",
       "</table>\n",
       "</div>"
      ],
      "text/plain": [
       "   icpsr bioguide_id\n",
       "0  99869         NaN\n",
       "1    379     B000084\n",
       "2   4854     J000017\n",
       "3   6071     M000234\n",
       "4   1538     C000187"
      ]
     },
     "execution_count": 20,
     "metadata": {},
     "output_type": "execute_result"
    }
   ],
   "source": [
    "crosswalk = members[['icpsr', 'bioguide_id']]\n",
    "crosswalk.head()"
   ]
  },
  {
   "cell_type": "code",
   "execution_count": 21,
   "metadata": {},
   "outputs": [],
   "source": [
    "crosswalk = crosswalk.drop_duplicates()"
   ]
  },
  {
   "cell_type": "code",
   "execution_count": 22,
   "metadata": {},
   "outputs": [],
   "source": [
    "crosswalk.to_csv('results/icpsr_bioguide_id_corsswalk.csv', index=False)"
   ]
  },
  {
   "cell_type": "markdown",
   "metadata": {},
   "source": [
    "#### Match back to bioguide ID"
   ]
  },
  {
   "cell_type": "code",
   "execution_count": 23,
   "metadata": {},
   "outputs": [],
   "source": [
    "df_attendance = df_attendance.join(crosswalk.set_index('icpsr'), on='attendee')"
   ]
  },
  {
   "cell_type": "code",
   "execution_count": 24,
   "metadata": {},
   "outputs": [
    {
     "data": {
      "text/html": [
       "<div>\n",
       "<style scoped>\n",
       "    .dataframe tbody tr th:only-of-type {\n",
       "        vertical-align: middle;\n",
       "    }\n",
       "\n",
       "    .dataframe tbody tr th {\n",
       "        vertical-align: top;\n",
       "    }\n",
       "\n",
       "    .dataframe thead th {\n",
       "        text-align: right;\n",
       "    }\n",
       "</style>\n",
       "<table border=\"1\" class=\"dataframe\">\n",
       "  <thead>\n",
       "    <tr style=\"text-align: right;\">\n",
       "      <th></th>\n",
       "      <th>congress</th>\n",
       "      <th>attendee</th>\n",
       "      <th>bioguide_id</th>\n",
       "    </tr>\n",
       "  </thead>\n",
       "  <tbody>\n",
       "    <tr>\n",
       "      <th>0</th>\n",
       "      <td>House102</td>\n",
       "      <td>14402</td>\n",
       "      <td>A000214</td>\n",
       "    </tr>\n",
       "    <tr>\n",
       "      <th>1</th>\n",
       "      <td>House102</td>\n",
       "      <td>14404</td>\n",
       "      <td>B000153</td>\n",
       "    </tr>\n",
       "    <tr>\n",
       "      <th>2</th>\n",
       "      <td>House102</td>\n",
       "      <td>14405</td>\n",
       "      <td>B000318</td>\n",
       "    </tr>\n",
       "    <tr>\n",
       "      <th>3</th>\n",
       "      <td>House102</td>\n",
       "      <td>14407</td>\n",
       "      <td>B000619</td>\n",
       "    </tr>\n",
       "    <tr>\n",
       "      <th>4</th>\n",
       "      <td>House102</td>\n",
       "      <td>14410</td>\n",
       "      <td>C000618</td>\n",
       "    </tr>\n",
       "  </tbody>\n",
       "</table>\n",
       "</div>"
      ],
      "text/plain": [
       "   congress  attendee bioguide_id\n",
       "0  House102     14402     A000214\n",
       "1  House102     14404     B000153\n",
       "2  House102     14405     B000318\n",
       "3  House102     14407     B000619\n",
       "4  House102     14410     C000618"
      ]
     },
     "execution_count": 24,
     "metadata": {},
     "output_type": "execute_result"
    }
   ],
   "source": [
    "df_attendance.head()"
   ]
  },
  {
   "cell_type": "markdown",
   "metadata": {},
   "source": [
    "### Using attendance to filter politicians"
   ]
  },
  {
   "cell_type": "code",
   "execution_count": 25,
   "metadata": {},
   "outputs": [],
   "source": [
    "df_attendance = df_attendance.drop_duplicates(subset=['bioguide_id'])\n",
    "df_after102nd = df_attendance.join(df.set_index('usCongressBioId'), on='bioguide_id')\n",
    "df_after102nd = df_after102nd.rename(columns={'bioguide_id': 'usCongressBioId', 'attendee':'icpsr_id'})\n",
    "df_after102nd = df_after102nd.drop(columns=['congress'])"
   ]
  },
  {
   "cell_type": "code",
   "execution_count": 26,
   "metadata": {},
   "outputs": [],
   "source": [
    "df_after102nd.to_csv(\"results/bioguide_after102nd.csv\", index=False)"
   ]
  },
  {
   "cell_type": "code",
   "execution_count": 27,
   "metadata": {},
   "outputs": [
    {
     "data": {
      "text/html": [
       "<div>\n",
       "<style scoped>\n",
       "    .dataframe tbody tr th:only-of-type {\n",
       "        vertical-align: middle;\n",
       "    }\n",
       "\n",
       "    .dataframe tbody tr th {\n",
       "        vertical-align: top;\n",
       "    }\n",
       "\n",
       "    .dataframe thead th {\n",
       "        text-align: right;\n",
       "    }\n",
       "</style>\n",
       "<table border=\"1\" class=\"dataframe\">\n",
       "  <thead>\n",
       "    <tr style=\"text-align: right;\">\n",
       "      <th></th>\n",
       "      <th>id</th>\n",
       "      <th>bio</th>\n",
       "    </tr>\n",
       "  </thead>\n",
       "  <tbody>\n",
       "    <tr>\n",
       "      <th>0</th>\n",
       "      <td>S000250</td>\n",
       "      <td>a Representative from Texas; born in Waco, McL...</td>\n",
       "    </tr>\n",
       "    <tr>\n",
       "      <th>1</th>\n",
       "      <td>H001040</td>\n",
       "      <td>A Representative from Illinois; born in Galesb...</td>\n",
       "    </tr>\n",
       "    <tr>\n",
       "      <th>2</th>\n",
       "      <td>C001056</td>\n",
       "      <td>A Senator from Texas; born in Houston, Texas, ...</td>\n",
       "    </tr>\n",
       "    <tr>\n",
       "      <th>3</th>\n",
       "      <td>G000576</td>\n",
       "      <td>A Representative from Wisconsin; born in Milwa...</td>\n",
       "    </tr>\n",
       "    <tr>\n",
       "      <th>4</th>\n",
       "      <td>F000246</td>\n",
       "      <td>a Representative from Texas; born in Pittsfiel...</td>\n",
       "    </tr>\n",
       "    <tr>\n",
       "      <th>...</th>\n",
       "      <td>...</td>\n",
       "      <td>...</td>\n",
       "    </tr>\n",
       "    <tr>\n",
       "      <th>95</th>\n",
       "      <td>R000566</td>\n",
       "      <td>A Representative from Kansas; born in Wichita,...</td>\n",
       "    </tr>\n",
       "    <tr>\n",
       "      <th>96</th>\n",
       "      <td>G000408</td>\n",
       "      <td>(elected under the name Enid G. Waldholtz in t...</td>\n",
       "    </tr>\n",
       "    <tr>\n",
       "      <th>97</th>\n",
       "      <td>B001172</td>\n",
       "      <td>A Representative from Texas; born in Asherton,...</td>\n",
       "    </tr>\n",
       "    <tr>\n",
       "      <th>98</th>\n",
       "      <td>Y000062</td>\n",
       "      <td>A Representative from Kentucky; born in Louisv...</td>\n",
       "    </tr>\n",
       "    <tr>\n",
       "      <th>99</th>\n",
       "      <td>C000286</td>\n",
       "      <td>A Senator and a Representative from Georgia; b...</td>\n",
       "    </tr>\n",
       "  </tbody>\n",
       "</table>\n",
       "<p>100 rows × 2 columns</p>\n",
       "</div>"
      ],
      "text/plain": [
       "         id                                                bio\n",
       "0   S000250  a Representative from Texas; born in Waco, McL...\n",
       "1   H001040  A Representative from Illinois; born in Galesb...\n",
       "2   C001056  A Senator from Texas; born in Houston, Texas, ...\n",
       "3   G000576  A Representative from Wisconsin; born in Milwa...\n",
       "4   F000246  a Representative from Texas; born in Pittsfiel...\n",
       "..      ...                                                ...\n",
       "95  R000566  A Representative from Kansas; born in Wichita,...\n",
       "96  G000408  (elected under the name Enid G. Waldholtz in t...\n",
       "97  B001172  A Representative from Texas; born in Asherton,...\n",
       "98  Y000062  A Representative from Kentucky; born in Louisv...\n",
       "99  C000286  A Senator and a Representative from Georgia; b...\n",
       "\n",
       "[100 rows x 2 columns]"
      ]
     },
     "execution_count": 27,
     "metadata": {},
     "output_type": "execute_result"
    }
   ],
   "source": [
    "ids = df_after102nd.usCongressBioId.tolist()\n",
    "sample_ids = random.sample(ids, 100)\n",
    "sample_bios = [df_after102nd.loc[df_after102nd['usCongressBioId'] == id].iloc[0]['profileText'] for id in sample_ids]\n",
    "df_sample_bio_102nd = pd.DataFrame(list(zip(sample_ids, sample_bios)), columns=['id', 'bio'])\n",
    "df_sample_bio_102nd"
   ]
  },
  {
   "cell_type": "code",
   "execution_count": 28,
   "metadata": {},
   "outputs": [],
   "source": [
    "df_sample_bio_102nd.to_csv('results/sample_bios_after102nd.csv', index=False)"
   ]
  }
 ],
 "metadata": {
  "kernelspec": {
   "display_name": "Python 3.9.7 ('base')",
   "language": "python",
   "name": "python3"
  },
  "language_info": {
   "codemirror_mode": {
    "name": "ipython",
    "version": 3
   },
   "file_extension": ".py",
   "mimetype": "text/x-python",
   "name": "python",
   "nbconvert_exporter": "python",
   "pygments_lexer": "ipython3",
   "version": "3.9.7"
  },
  "orig_nbformat": 4,
  "vscode": {
   "interpreter": {
    "hash": "526a3113e883f61beef86ede594754d8bd591cb31b4b3261c1dfaa691314bdad"
   }
  }
 },
 "nbformat": 4,
 "nbformat_minor": 2
}
