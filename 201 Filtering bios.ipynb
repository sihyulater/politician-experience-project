{
 "cells": [
  {
   "cell_type": "code",
   "execution_count": 1,
   "metadata": {},
   "outputs": [],
   "source": [
    "import pandas as pd\n",
    "import numpy as np\n",
    "import random\n",
    "import re\n",
    "\n",
    "random.seed(123)"
   ]
  },
  {
   "cell_type": "code",
   "execution_count": 2,
   "metadata": {},
   "outputs": [],
   "source": [
    "df = pd.read_csv(\"results/bioguide.csv\")"
   ]
  },
  {
   "cell_type": "markdown",
   "metadata": {},
   "source": [
    "## Filtering Birth Year After 1900"
   ]
  },
  {
   "cell_type": "code",
   "execution_count": 3,
   "metadata": {},
   "outputs": [],
   "source": [
    "# subsample of birth after 1900\n",
    "\n",
    "birthdates = df[\"birthDate\"]\n",
    "birthyear = [0]*df.shape[0]\n",
    "\n",
    "# Collecting birthyears\n",
    "for i, birthdate in zip(birthdates.index, birthdates):\n",
    "    # nan\n",
    "    if pd.isna(birthdate):\n",
    "        birthyear[i] = float(\"nan\")\n",
    "    \n",
    "    else:\n",
    "        birthdate = birthdate.strip()\n",
    "        birthyear[i] = int(birthdate[:4])\n",
    "\n",
    "df = pd.concat([df, pd.DataFrame(birthyear, columns=[\"birth year\"])], axis=1)\n",
    "df_b1900 = df[df[\"birth year\"] > 1900]"
   ]
  },
  {
   "cell_type": "code",
   "execution_count": 4,
   "metadata": {},
   "outputs": [
    {
     "data": {
      "text/plain": [
       "(3125, 22)"
      ]
     },
     "execution_count": 4,
     "metadata": {},
     "output_type": "execute_result"
    }
   ],
   "source": [
    "df_b1900.shape"
   ]
  },
  {
   "cell_type": "code",
   "execution_count": 5,
   "metadata": {},
   "outputs": [],
   "source": [
    "# randomly select sample by id, and find the bios with respect to those ids\n",
    "ids = df_b1900.usCongressBioId.tolist()\n",
    "sample_ids = random.sample(ids, 100)\n",
    "sample_bios = [df_b1900.loc[df_b1900['usCongressBioId'] == id].iloc[0]['profileText'] for id in sample_ids]"
   ]
  },
  {
   "cell_type": "code",
   "execution_count": 6,
   "metadata": {},
   "outputs": [],
   "source": [
    "df_sample_bio = pd.DataFrame(list(zip(sample_ids, sample_bios)), columns=['id', 'bio'])"
   ]
  },
  {
   "cell_type": "code",
   "execution_count": 7,
   "metadata": {},
   "outputs": [
    {
     "data": {
      "text/html": [
       "<div>\n",
       "<style scoped>\n",
       "    .dataframe tbody tr th:only-of-type {\n",
       "        vertical-align: middle;\n",
       "    }\n",
       "\n",
       "    .dataframe tbody tr th {\n",
       "        vertical-align: top;\n",
       "    }\n",
       "\n",
       "    .dataframe thead th {\n",
       "        text-align: right;\n",
       "    }\n",
       "</style>\n",
       "<table border=\"1\" class=\"dataframe\">\n",
       "  <thead>\n",
       "    <tr style=\"text-align: right;\">\n",
       "      <th></th>\n",
       "      <th>id</th>\n",
       "      <th>bio</th>\n",
       "    </tr>\n",
       "  </thead>\n",
       "  <tbody>\n",
       "    <tr>\n",
       "      <th>0</th>\n",
       "      <td>C000312</td>\n",
       "      <td>A Representative from Texas; born in Washingto...</td>\n",
       "    </tr>\n",
       "    <tr>\n",
       "      <th>1</th>\n",
       "      <td>B001259</td>\n",
       "      <td>A Representative from Iowa; born in Grinnell, ...</td>\n",
       "    </tr>\n",
       "    <tr>\n",
       "      <th>2</th>\n",
       "      <td>S000844</td>\n",
       "      <td>A Representative from Maryland; born in Glen R...</td>\n",
       "    </tr>\n",
       "    <tr>\n",
       "      <th>3</th>\n",
       "      <td>N000033</td>\n",
       "      <td>A Senator from Wisconsin; born in Clear Lake, ...</td>\n",
       "    </tr>\n",
       "    <tr>\n",
       "      <th>4</th>\n",
       "      <td>F000088</td>\n",
       "      <td>A Representative from New York; born in Newbur...</td>\n",
       "    </tr>\n",
       "    <tr>\n",
       "      <th>...</th>\n",
       "      <td>...</td>\n",
       "      <td>...</td>\n",
       "    </tr>\n",
       "    <tr>\n",
       "      <th>95</th>\n",
       "      <td>S001191</td>\n",
       "      <td>A Senator and a Representative from Arizona; b...</td>\n",
       "    </tr>\n",
       "    <tr>\n",
       "      <th>96</th>\n",
       "      <td>S000068</td>\n",
       "      <td>A Senator from Tennessee; born in Memphis, She...</td>\n",
       "    </tr>\n",
       "    <tr>\n",
       "      <th>97</th>\n",
       "      <td>P000555</td>\n",
       "      <td>A Representative from Ohio; born in Warren, Tr...</td>\n",
       "    </tr>\n",
       "    <tr>\n",
       "      <th>98</th>\n",
       "      <td>F000085</td>\n",
       "      <td>A Representative from New Mexico; born in Spri...</td>\n",
       "    </tr>\n",
       "    <tr>\n",
       "      <th>99</th>\n",
       "      <td>H000269</td>\n",
       "      <td>A Representative from Pennsylvania; born in Wa...</td>\n",
       "    </tr>\n",
       "  </tbody>\n",
       "</table>\n",
       "<p>100 rows × 2 columns</p>\n",
       "</div>"
      ],
      "text/plain": [
       "         id                                                bio\n",
       "0   C000312  A Representative from Texas; born in Washingto...\n",
       "1   B001259  A Representative from Iowa; born in Grinnell, ...\n",
       "2   S000844  A Representative from Maryland; born in Glen R...\n",
       "3   N000033  A Senator from Wisconsin; born in Clear Lake, ...\n",
       "4   F000088  A Representative from New York; born in Newbur...\n",
       "..      ...                                                ...\n",
       "95  S001191  A Senator and a Representative from Arizona; b...\n",
       "96  S000068  A Senator from Tennessee; born in Memphis, She...\n",
       "97  P000555  A Representative from Ohio; born in Warren, Tr...\n",
       "98  F000085  A Representative from New Mexico; born in Spri...\n",
       "99  H000269  A Representative from Pennsylvania; born in Wa...\n",
       "\n",
       "[100 rows x 2 columns]"
      ]
     },
     "execution_count": 7,
     "metadata": {},
     "output_type": "execute_result"
    }
   ],
   "source": [
    "df_sample_bio"
   ]
  },
  {
   "cell_type": "code",
   "execution_count": 8,
   "metadata": {},
   "outputs": [],
   "source": [
    "df_b1900.to_csv(\"results/bioguide_a1900.csv\", index=False)\n",
    "df_sample_bio.to_csv(\"results/sample_bios.csv\", index=False)"
   ]
  },
  {
   "cell_type": "markdown",
   "metadata": {},
   "source": [
    "## Filtering roll call after the 102nd Congress"
   ]
  },
  {
   "cell_type": "markdown",
   "metadata": {},
   "source": [
    "### small sample for 102nd house congress"
   ]
  },
  {
   "cell_type": "code",
   "execution_count": 9,
   "metadata": {},
   "outputs": [],
   "source": [
    "df_voteh102 = pd.read_csv(\"H102_votes.csv\")"
   ]
  },
  {
   "cell_type": "code",
   "execution_count": 10,
   "metadata": {},
   "outputs": [
    {
     "name": "stdout",
     "output_type": "stream",
     "text": [
      "147\n"
     ]
    }
   ],
   "source": [
    "# Are the representatives the same for each roll call?\n",
    "# collect the icpsrs for each roll number and compare them\n",
    "\n",
    "grouped = df_voteh102.groupby(df_voteh102.rollnumber)\n",
    "different_set = 0\n",
    "member = set(grouped.get_group(1).icpsr)\n",
    "for rollnumber, group in grouped:\n",
    "    if member != set(group.icpsr):\n",
    "        different_set += 1\n",
    "    member = set(group.icpsr)\n",
    "print(different_set)\n",
    "    "
   ]
  },
  {
   "cell_type": "code",
   "execution_count": 11,
   "metadata": {},
   "outputs": [
    {
     "data": {
      "text/plain": [
       "442"
      ]
     },
     "execution_count": 11,
     "metadata": {},
     "output_type": "execute_result"
    }
   ],
   "source": [
    "# find the union for all rolls\n",
    "\n",
    "attendence = set(grouped.get_group(1).icpsr)\n",
    "for rollnumber, group in grouped:\n",
    "    attendence = attendence.union(set(group.icpsr))\n",
    "len(attendence)"
   ]
  },
  {
   "cell_type": "markdown",
   "metadata": {},
   "source": [
    "### Full sample of congresses after 102nd (109th)"
   ]
  },
  {
   "cell_type": "code",
   "execution_count": 12,
   "metadata": {},
   "outputs": [],
   "source": [
    "# importing the bulk data from voteview\n",
    "df_vote = pd.read_csv(\"HSall_votes.csv\")"
   ]
  },
  {
   "cell_type": "code",
   "execution_count": 13,
   "metadata": {},
   "outputs": [],
   "source": [
    "# keeping the votes after 109th congress\n",
    "# change the number if needed\n",
    "df_vote = df_vote[df_vote['congress'] >= 109]"
   ]
  },
  {
   "cell_type": "code",
   "execution_count": 14,
   "metadata": {},
   "outputs": [
    {
     "data": {
      "text/html": [
       "<div>\n",
       "<style scoped>\n",
       "    .dataframe tbody tr th:only-of-type {\n",
       "        vertical-align: middle;\n",
       "    }\n",
       "\n",
       "    .dataframe tbody tr th {\n",
       "        vertical-align: top;\n",
       "    }\n",
       "\n",
       "    .dataframe thead th {\n",
       "        text-align: right;\n",
       "    }\n",
       "</style>\n",
       "<table border=\"1\" class=\"dataframe\">\n",
       "  <thead>\n",
       "    <tr style=\"text-align: right;\">\n",
       "      <th></th>\n",
       "      <th>congress</th>\n",
       "      <th>chamber</th>\n",
       "      <th>rollnumber</th>\n",
       "      <th>icpsr</th>\n",
       "      <th>cast_code</th>\n",
       "      <th>prob</th>\n",
       "    </tr>\n",
       "  </thead>\n",
       "  <tbody>\n",
       "    <tr>\n",
       "      <th>19619937</th>\n",
       "      <td>109</td>\n",
       "      <td>House</td>\n",
       "      <td>1</td>\n",
       "      <td>2605.0</td>\n",
       "      <td>6.0</td>\n",
       "      <td>100.0</td>\n",
       "    </tr>\n",
       "    <tr>\n",
       "      <th>19619938</th>\n",
       "      <td>109</td>\n",
       "      <td>House</td>\n",
       "      <td>1</td>\n",
       "      <td>10713.0</td>\n",
       "      <td>6.0</td>\n",
       "      <td>100.0</td>\n",
       "    </tr>\n",
       "    <tr>\n",
       "      <th>19619939</th>\n",
       "      <td>109</td>\n",
       "      <td>House</td>\n",
       "      <td>1</td>\n",
       "      <td>12036.0</td>\n",
       "      <td>6.0</td>\n",
       "      <td>100.0</td>\n",
       "    </tr>\n",
       "    <tr>\n",
       "      <th>19619940</th>\n",
       "      <td>109</td>\n",
       "      <td>House</td>\n",
       "      <td>1</td>\n",
       "      <td>13035.0</td>\n",
       "      <td>6.0</td>\n",
       "      <td>100.0</td>\n",
       "    </tr>\n",
       "    <tr>\n",
       "      <th>19619941</th>\n",
       "      <td>109</td>\n",
       "      <td>House</td>\n",
       "      <td>1</td>\n",
       "      <td>13047.0</td>\n",
       "      <td>1.0</td>\n",
       "      <td>100.0</td>\n",
       "    </tr>\n",
       "  </tbody>\n",
       "</table>\n",
       "</div>"
      ],
      "text/plain": [
       "          congress chamber  rollnumber    icpsr  cast_code   prob\n",
       "19619937       109   House           1   2605.0        6.0  100.0\n",
       "19619938       109   House           1  10713.0        6.0  100.0\n",
       "19619939       109   House           1  12036.0        6.0  100.0\n",
       "19619940       109   House           1  13035.0        6.0  100.0\n",
       "19619941       109   House           1  13047.0        1.0  100.0"
      ]
     },
     "execution_count": 14,
     "metadata": {},
     "output_type": "execute_result"
    }
   ],
   "source": [
    "df_vote.head()"
   ]
  },
  {
   "cell_type": "code",
   "execution_count": 15,
   "metadata": {},
   "outputs": [],
   "source": [
    "# This function finds the attendance of the congress members\n",
    "# by finding the union of the congress members from the votes of all roll calls of that congress\n",
    "def find_attendance(df):\n",
    "    grouped = df.groupby(df.rollnumber)\n",
    "    attendence = set(grouped.get_group(1).icpsr)\n",
    "    for rollnumber, group in grouped:\n",
    "        attendence = attendence.union(set(group.icpsr))\n",
    "    return attendence"
   ]
  },
  {
   "cell_type": "code",
   "execution_count": 16,
   "metadata": {},
   "outputs": [],
   "source": [
    "# applying the function on all the congresses\n",
    "congresses = df_vote.groupby(['congress', 'chamber'])\n",
    "attendance_lists = {}\n",
    "for name, congress in congresses:\n",
    "    key = str(name[1]) + str(name[0])\n",
    "    attendance = find_attendance(congress)\n",
    "    attendance_lists[key] = attendance\n"
   ]
  },
  {
   "cell_type": "code",
   "execution_count": 17,
   "metadata": {},
   "outputs": [
    {
     "data": {
      "text/html": [
       "<div>\n",
       "<style scoped>\n",
       "    .dataframe tbody tr th:only-of-type {\n",
       "        vertical-align: middle;\n",
       "    }\n",
       "\n",
       "    .dataframe tbody tr th {\n",
       "        vertical-align: top;\n",
       "    }\n",
       "\n",
       "    .dataframe thead th {\n",
       "        text-align: right;\n",
       "    }\n",
       "</style>\n",
       "<table border=\"1\" class=\"dataframe\">\n",
       "  <thead>\n",
       "    <tr style=\"text-align: right;\">\n",
       "      <th></th>\n",
       "      <th>congress</th>\n",
       "      <th>attendee</th>\n",
       "    </tr>\n",
       "  </thead>\n",
       "  <tbody>\n",
       "    <tr>\n",
       "      <th>0</th>\n",
       "      <td>House109</td>\n",
       "      <td>20501</td>\n",
       "    </tr>\n",
       "    <tr>\n",
       "      <th>1</th>\n",
       "      <td>House109</td>\n",
       "      <td>20502</td>\n",
       "    </tr>\n",
       "    <tr>\n",
       "      <th>2</th>\n",
       "      <td>House109</td>\n",
       "      <td>20503</td>\n",
       "    </tr>\n",
       "    <tr>\n",
       "      <th>3</th>\n",
       "      <td>House109</td>\n",
       "      <td>20504</td>\n",
       "    </tr>\n",
       "    <tr>\n",
       "      <th>4</th>\n",
       "      <td>House109</td>\n",
       "      <td>20505</td>\n",
       "    </tr>\n",
       "  </tbody>\n",
       "</table>\n",
       "</div>"
      ],
      "text/plain": [
       "   congress  attendee\n",
       "0  House109     20501\n",
       "1  House109     20502\n",
       "2  House109     20503\n",
       "3  House109     20504\n",
       "4  House109     20505"
      ]
     },
     "execution_count": 17,
     "metadata": {},
     "output_type": "execute_result"
    }
   ],
   "source": [
    "# turning the dictionary into dataframe\n",
    "congress_name = []\n",
    "attendees = []\n",
    "for congress in attendance_lists:\n",
    "    for attendee in attendance_lists[congress]:\n",
    "        congress_name.append(congress)\n",
    "        attendees.append(int(attendee))\n",
    "\n",
    "df_attendance = pd.DataFrame({'congress': congress_name, 'attendee': attendees})\n",
    "df_attendance.head()"
   ]
  },
  {
   "cell_type": "markdown",
   "metadata": {},
   "source": [
    "### Match ICPSR ID to Bioguide ID"
   ]
  },
  {
   "cell_type": "markdown",
   "metadata": {},
   "source": [
    "#### Preparing crosswalk"
   ]
  },
  {
   "cell_type": "code",
   "execution_count": 18,
   "metadata": {},
   "outputs": [],
   "source": [
    "# importing the data from voteview\n",
    "members = pd.read_csv('HSall_members.csv')"
   ]
  },
  {
   "cell_type": "code",
   "execution_count": 19,
   "metadata": {},
   "outputs": [
    {
     "data": {
      "text/html": [
       "<div>\n",
       "<style scoped>\n",
       "    .dataframe tbody tr th:only-of-type {\n",
       "        vertical-align: middle;\n",
       "    }\n",
       "\n",
       "    .dataframe tbody tr th {\n",
       "        vertical-align: top;\n",
       "    }\n",
       "\n",
       "    .dataframe thead th {\n",
       "        text-align: right;\n",
       "    }\n",
       "</style>\n",
       "<table border=\"1\" class=\"dataframe\">\n",
       "  <thead>\n",
       "    <tr style=\"text-align: right;\">\n",
       "      <th></th>\n",
       "      <th>icpsr</th>\n",
       "      <th>bioguide_id</th>\n",
       "    </tr>\n",
       "  </thead>\n",
       "  <tbody>\n",
       "    <tr>\n",
       "      <th>0</th>\n",
       "      <td>99869</td>\n",
       "      <td>NaN</td>\n",
       "    </tr>\n",
       "    <tr>\n",
       "      <th>1</th>\n",
       "      <td>379</td>\n",
       "      <td>B000084</td>\n",
       "    </tr>\n",
       "    <tr>\n",
       "      <th>2</th>\n",
       "      <td>4854</td>\n",
       "      <td>J000017</td>\n",
       "    </tr>\n",
       "    <tr>\n",
       "      <th>3</th>\n",
       "      <td>6071</td>\n",
       "      <td>M000234</td>\n",
       "    </tr>\n",
       "    <tr>\n",
       "      <th>4</th>\n",
       "      <td>1538</td>\n",
       "      <td>C000187</td>\n",
       "    </tr>\n",
       "  </tbody>\n",
       "</table>\n",
       "</div>"
      ],
      "text/plain": [
       "   icpsr bioguide_id\n",
       "0  99869         NaN\n",
       "1    379     B000084\n",
       "2   4854     J000017\n",
       "3   6071     M000234\n",
       "4   1538     C000187"
      ]
     },
     "execution_count": 19,
     "metadata": {},
     "output_type": "execute_result"
    }
   ],
   "source": [
    "crosswalk = members[['icpsr', 'bioguide_id']]\n",
    "crosswalk.head()"
   ]
  },
  {
   "cell_type": "code",
   "execution_count": 20,
   "metadata": {},
   "outputs": [],
   "source": [
    "crosswalk = crosswalk.drop_duplicates()"
   ]
  },
  {
   "cell_type": "code",
   "execution_count": 21,
   "metadata": {},
   "outputs": [],
   "source": [
    "crosswalk.to_csv('results/icpsr_bioguide_id_crosswalk.csv', index=False)"
   ]
  },
  {
   "cell_type": "markdown",
   "metadata": {},
   "source": [
    "#### Match back to bioguide ID"
   ]
  },
  {
   "cell_type": "code",
   "execution_count": 22,
   "metadata": {},
   "outputs": [],
   "source": [
    "df_attendance = df_attendance.join(crosswalk.set_index('icpsr'), on='attendee')"
   ]
  },
  {
   "cell_type": "code",
   "execution_count": 23,
   "metadata": {},
   "outputs": [
    {
     "data": {
      "text/html": [
       "<div>\n",
       "<style scoped>\n",
       "    .dataframe tbody tr th:only-of-type {\n",
       "        vertical-align: middle;\n",
       "    }\n",
       "\n",
       "    .dataframe tbody tr th {\n",
       "        vertical-align: top;\n",
       "    }\n",
       "\n",
       "    .dataframe thead th {\n",
       "        text-align: right;\n",
       "    }\n",
       "</style>\n",
       "<table border=\"1\" class=\"dataframe\">\n",
       "  <thead>\n",
       "    <tr style=\"text-align: right;\">\n",
       "      <th></th>\n",
       "      <th>congress</th>\n",
       "      <th>attendee</th>\n",
       "      <th>bioguide_id</th>\n",
       "    </tr>\n",
       "  </thead>\n",
       "  <tbody>\n",
       "    <tr>\n",
       "      <th>0</th>\n",
       "      <td>House109</td>\n",
       "      <td>20501</td>\n",
       "      <td>C001059</td>\n",
       "    </tr>\n",
       "    <tr>\n",
       "      <th>1</th>\n",
       "      <td>House109</td>\n",
       "      <td>20502</td>\n",
       "      <td>S001158</td>\n",
       "    </tr>\n",
       "    <tr>\n",
       "      <th>2</th>\n",
       "      <td>House109</td>\n",
       "      <td>20503</td>\n",
       "      <td>M001155</td>\n",
       "    </tr>\n",
       "    <tr>\n",
       "      <th>3</th>\n",
       "      <td>House109</td>\n",
       "      <td>20504</td>\n",
       "      <td>W000797</td>\n",
       "    </tr>\n",
       "    <tr>\n",
       "      <th>4</th>\n",
       "      <td>House109</td>\n",
       "      <td>20505</td>\n",
       "      <td>P000591</td>\n",
       "    </tr>\n",
       "  </tbody>\n",
       "</table>\n",
       "</div>"
      ],
      "text/plain": [
       "   congress  attendee bioguide_id\n",
       "0  House109     20501     C001059\n",
       "1  House109     20502     S001158\n",
       "2  House109     20503     M001155\n",
       "3  House109     20504     W000797\n",
       "4  House109     20505     P000591"
      ]
     },
     "execution_count": 23,
     "metadata": {},
     "output_type": "execute_result"
    }
   ],
   "source": [
    "df_attendance.head()"
   ]
  },
  {
   "cell_type": "markdown",
   "metadata": {},
   "source": [
    "### Using attendance to filter politicians"
   ]
  },
  {
   "cell_type": "code",
   "execution_count": 24,
   "metadata": {},
   "outputs": [],
   "source": [
    "df_attendance = df_attendance.drop_duplicates(subset=['bioguide_id'])\n",
    "df_filtered = df_attendance.join(df.set_index('usCongressBioId'), on='bioguide_id')\n",
    "df_filtered = df_filtered.rename(columns={'bioguide_id': 'usCongressBioId', 'attendee':'icpsr_id'})\n",
    "df_filtered = df_filtered.drop(columns=['congress'])"
   ]
  },
  {
   "cell_type": "code",
   "execution_count": 25,
   "metadata": {},
   "outputs": [
    {
     "data": {
      "text/plain": [
       "(1312, 23)"
      ]
     },
     "execution_count": 25,
     "metadata": {},
     "output_type": "execute_result"
    }
   ],
   "source": [
    "df_filtered.shape"
   ]
  },
  {
   "cell_type": "code",
   "execution_count": 26,
   "metadata": {},
   "outputs": [],
   "source": [
    "df_filtered.to_csv(\"results/bioguide_after109th.csv\", index=False)"
   ]
  },
  {
   "cell_type": "code",
   "execution_count": 27,
   "metadata": {},
   "outputs": [],
   "source": [
    "regex = re.compile(r'<[^>]+>')\n",
    "\n",
    "def remove_html(string):\n",
    "    if type(string) is not str:\n",
    "        pass\n",
    "    else:\n",
    "        return regex.sub('', string)"
   ]
  },
  {
   "cell_type": "code",
   "execution_count": 28,
   "metadata": {},
   "outputs": [],
   "source": [
    "df_filtered['profileText'] = df_filtered['profileText'].apply(remove_html)"
   ]
  },
  {
   "cell_type": "code",
   "execution_count": 29,
   "metadata": {},
   "outputs": [],
   "source": [
    "# a particularly weird cell\n",
    "df_filtered.at[5484, 'profileText'] = 'a Senator from Nebraska; born in Nebraska City, Nebr., August 19, 1964; graduated Westside High School, Omaha, Nebr., 1982; B.A., biology, University of Chicago, 1986; M.B.A., marketing and finance, University of Chicago, 1991; stock trading company executive and board member; co-owner of Chicago Cubs baseball team; unsuccessful candidate for the United States Senate in 2006; governor of Nebraska 2015-2023; appointed as a Republican to the United States Senate on January 12, 2023, to fill the vacancy caused by the resignation of Benjamin Sasse; took the oath of office on January 23, 2023.'"
   ]
  },
  {
   "cell_type": "code",
   "execution_count": 30,
   "metadata": {},
   "outputs": [],
   "source": [
    "df_bio = df_filtered[['usCongressBioId', 'profileText']]\n",
    "df_bio = df_bio.rename(columns = {'usCongressBioId': 'id', 'profileText': 'bio'})"
   ]
  },
  {
   "cell_type": "code",
   "execution_count": 31,
   "metadata": {},
   "outputs": [],
   "source": [
    "df_bio.to_csv('results/full_bios_after109th.csv', index=False)"
   ]
  },
  {
   "cell_type": "code",
   "execution_count": 32,
   "metadata": {},
   "outputs": [
    {
     "data": {
      "text/html": [
       "<div>\n",
       "<style scoped>\n",
       "    .dataframe tbody tr th:only-of-type {\n",
       "        vertical-align: middle;\n",
       "    }\n",
       "\n",
       "    .dataframe tbody tr th {\n",
       "        vertical-align: top;\n",
       "    }\n",
       "\n",
       "    .dataframe thead th {\n",
       "        text-align: right;\n",
       "    }\n",
       "</style>\n",
       "<table border=\"1\" class=\"dataframe\">\n",
       "  <thead>\n",
       "    <tr style=\"text-align: right;\">\n",
       "      <th></th>\n",
       "      <th>id</th>\n",
       "      <th>bio</th>\n",
       "    </tr>\n",
       "  </thead>\n",
       "  <tbody>\n",
       "    <tr>\n",
       "      <th>0</th>\n",
       "      <td>E000293</td>\n",
       "      <td>A Representative from Connecticut; born in Oak...</td>\n",
       "    </tr>\n",
       "    <tr>\n",
       "      <th>1</th>\n",
       "      <td>K000394</td>\n",
       "      <td>A Representative from New Jersey; born in Bost...</td>\n",
       "    </tr>\n",
       "    <tr>\n",
       "      <th>2</th>\n",
       "      <td>T000478</td>\n",
       "      <td>A Representative from New York; born in New Ha...</td>\n",
       "    </tr>\n",
       "    <tr>\n",
       "      <th>3</th>\n",
       "      <td>M000523</td>\n",
       "      <td>A Representative from Georgia; born in Atlanta...</td>\n",
       "    </tr>\n",
       "    <tr>\n",
       "      <th>4</th>\n",
       "      <td>F000479</td>\n",
       "      <td>a Senator from Pennsylvania; born in Reading, ...</td>\n",
       "    </tr>\n",
       "    <tr>\n",
       "      <th>...</th>\n",
       "      <td>...</td>\n",
       "      <td>...</td>\n",
       "    </tr>\n",
       "    <tr>\n",
       "      <th>95</th>\n",
       "      <td>T000467</td>\n",
       "      <td>a Representative from Pennsylvania; born in Ho...</td>\n",
       "    </tr>\n",
       "    <tr>\n",
       "      <th>96</th>\n",
       "      <td>C001117</td>\n",
       "      <td>A Representative from Illinois; born in Dublin...</td>\n",
       "    </tr>\n",
       "    <tr>\n",
       "      <th>97</th>\n",
       "      <td>A000378</td>\n",
       "      <td>A Representative from Iowa; born in Grand Rapi...</td>\n",
       "    </tr>\n",
       "    <tr>\n",
       "      <th>98</th>\n",
       "      <td>M001210</td>\n",
       "      <td>a Representative from North Carolina; born in ...</td>\n",
       "    </tr>\n",
       "    <tr>\n",
       "      <th>99</th>\n",
       "      <td>W000268</td>\n",
       "      <td>A Representative from Pennsylvania; born in Ma...</td>\n",
       "    </tr>\n",
       "  </tbody>\n",
       "</table>\n",
       "<p>100 rows × 2 columns</p>\n",
       "</div>"
      ],
      "text/plain": [
       "         id                                                bio\n",
       "0   E000293  A Representative from Connecticut; born in Oak...\n",
       "1   K000394  A Representative from New Jersey; born in Bost...\n",
       "2   T000478  A Representative from New York; born in New Ha...\n",
       "3   M000523  A Representative from Georgia; born in Atlanta...\n",
       "4   F000479  a Senator from Pennsylvania; born in Reading, ...\n",
       "..      ...                                                ...\n",
       "95  T000467  a Representative from Pennsylvania; born in Ho...\n",
       "96  C001117  A Representative from Illinois; born in Dublin...\n",
       "97  A000378  A Representative from Iowa; born in Grand Rapi...\n",
       "98  M001210  a Representative from North Carolina; born in ...\n",
       "99  W000268  A Representative from Pennsylvania; born in Ma...\n",
       "\n",
       "[100 rows x 2 columns]"
      ]
     },
     "execution_count": 32,
     "metadata": {},
     "output_type": "execute_result"
    }
   ],
   "source": [
    "ids = df_filtered.usCongressBioId.tolist()\n",
    "sample_ids = random.sample(ids, 100)\n",
    "sample_bios = [df_filtered.loc[df_filtered['usCongressBioId'] == id].iloc[0]['profileText'] for id in sample_ids]\n",
    "df_sample_bio_filtered = pd.DataFrame(list(zip(sample_ids, sample_bios)), columns=['id', 'bio'])\n",
    "df_sample_bio_filtered"
   ]
  },
  {
   "cell_type": "code",
   "execution_count": 33,
   "metadata": {},
   "outputs": [],
   "source": [
    "df_sample_bio_filtered.to_csv('results/sample_bios_after109th.csv', index=False)"
   ]
  }
 ],
 "metadata": {
  "kernelspec": {
   "display_name": "Python 3.9.7 ('base')",
   "language": "python",
   "name": "python3"
  },
  "language_info": {
   "codemirror_mode": {
    "name": "ipython",
    "version": 3
   },
   "file_extension": ".py",
   "mimetype": "text/x-python",
   "name": "python",
   "nbconvert_exporter": "python",
   "pygments_lexer": "ipython3",
   "version": "3.9.7"
  },
  "orig_nbformat": 4,
  "vscode": {
   "interpreter": {
    "hash": "526a3113e883f61beef86ede594754d8bd591cb31b4b3261c1dfaa691314bdad"
   }
  }
 },
 "nbformat": 4,
 "nbformat_minor": 2
}
