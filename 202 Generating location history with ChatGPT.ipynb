{
 "cells": [
  {
   "cell_type": "code",
   "execution_count": 1,
   "id": "480265dc",
   "metadata": {},
   "outputs": [],
   "source": [
    "# !pip install --upgrade openai"
   ]
  },
  {
   "cell_type": "code",
   "execution_count": 1,
   "id": "f2e602e4",
   "metadata": {},
   "outputs": [],
   "source": [
    "import pandas as pd\n",
    "import numpy as np\n",
    "import random\n",
    "import configparser\n",
    "import shelve\n",
    "import re\n",
    "\n",
    "import openai"
   ]
  },
  {
   "cell_type": "code",
   "execution_count": 3,
   "id": "447e4c2e",
   "metadata": {},
   "outputs": [],
   "source": [
    "# %%\n",
    "config = configparser.ConfigParser(interpolation=None)\n",
    "config.read(\"config_openai.ini\")\n",
    " \n",
    "openai.organization = config[\"openai\"][\"org_id\"]\n",
    "openai.api_key = config[\"openai\"][\"secret_key\"]"
   ]
  },
  {
   "cell_type": "code",
   "execution_count": 4,
   "id": "646bf0f7",
   "metadata": {},
   "outputs": [],
   "source": [
    "df = pd.read_csv('sample_bios_after109nd.csv')\n",
    "df_out = df[['id', 'bio']].copy()"
   ]
  },
  {
   "cell_type": "code",
   "execution_count": 5,
   "id": "33537658",
   "metadata": {},
   "outputs": [],
   "source": [
    "model = 'gpt-3.5-turbo'\n",
    "temperature = 0"
   ]
  },
  {
   "cell_type": "code",
   "execution_count": 6,
   "id": "42092789",
   "metadata": {},
   "outputs": [],
   "source": [
    "prompt_pre = open(\"prompt.txt\", \"r\").read()"
   ]
  },
  {
   "cell_type": "code",
   "execution_count": 10,
   "id": "ca5a1cf4",
   "metadata": {},
   "outputs": [
    {
     "name": "stdout",
     "output_type": "stream",
     "text": [
      "0\n",
      "1\n",
      "2\n",
      "3\n",
      "4\n",
      "5\n",
      "6\n",
      "7\n",
      "8\n",
      "9\n",
      "10\n",
      "11\n",
      "12\n",
      "13\n",
      "14\n",
      "15\n",
      "16\n",
      "17\n",
      "18\n",
      "19\n",
      "20\n",
      "21\n",
      "22\n",
      "23\n",
      "24\n",
      "25\n",
      "26\n",
      "27\n",
      "28\n",
      "29\n",
      "30\n",
      "31\n",
      "32\n",
      "33\n",
      "34\n",
      "35\n",
      "36\n",
      "37\n",
      "38\n",
      "39\n",
      "40\n",
      "41\n",
      "42\n",
      "43\n",
      "44\n",
      "45\n",
      "46\n",
      "47\n",
      "48\n",
      "49\n",
      "50\n",
      "51\n",
      "52\n",
      "53\n",
      "54\n",
      "55\n",
      "56\n",
      "57\n",
      "58\n",
      "59\n",
      "60\n",
      "61\n",
      "62\n",
      "63\n",
      "64\n",
      "65\n",
      "66\n",
      "67\n",
      "68\n",
      "69\n",
      "70\n",
      "71\n",
      "72\n",
      "73\n",
      "74\n",
      "75\n",
      "76\n",
      "77\n",
      "78\n",
      "79\n",
      "80\n",
      "81\n",
      "82\n",
      "83\n",
      "84\n",
      "85\n",
      "86\n",
      "87\n",
      "88\n",
      "89\n",
      "90\n",
      "91\n",
      "92\n",
      "93\n",
      "94\n",
      "95\n",
      "96\n",
      "97\n",
      "98\n",
      "99\n"
     ]
    }
   ],
   "source": [
    "with shelve.open(\"./db_hold/api.db\") as api_db:\n",
    "    init_key_list = list(api_db.keys())\n",
    "    for row in df.itertuples():\n",
    "        print(row.Index)\n",
    "        cur_messages = [\n",
    "            {\n",
    "                \"role\": \"user\",\n",
    "                \"content\": prompt_pre + row.bio,\n",
    "            },\n",
    "        ]\n",
    "        cur_key = row.id\n",
    "        if cur_key in init_key_list:\n",
    "            api_result = api_db[cur_key]\n",
    "        else:\n",
    "            success = False\n",
    "            while not success:\n",
    "                # t0 = time.time()\n",
    "                try:\n",
    "                    api_result = openai.ChatCompletion.create(\n",
    "                        model=model,\n",
    "                        messages=cur_messages,\n",
    "                        temperature=temperature,\n",
    "                    )\n",
    "                    api_db[cur_key] = api_result\n",
    "                    print(api_result[\"usage\"][\"total_tokens\"])\n",
    "                    success = True\n",
    "                except openai.error.RateLimitError:\n",
    "                    print(\"Rate limited\")\n",
    "                except openai.error.APIError:\n",
    "                    print(\"Gateway Timeout\")\n",
    "                # if time.time() - t0 < 16:\n",
    "                #     time.sleep(16 - (time.time() - t0))\n",
    "        cur_out = api_result[\"choices\"][0][\"message\"][\"content\"]\n",
    "        cur_finish = api_result[\"choices\"][0][\"finish_reason\"]\n",
    "        if cur_finish != \"stop\":\n",
    "            print(\"WARNING: did not finish\")\n",
    "        df_out.loc[row.Index, \"api_out\"] = cur_out"
   ]
  },
  {
   "cell_type": "code",
   "execution_count": 11,
   "id": "181d1510",
   "metadata": {},
   "outputs": [],
   "source": [
    "df_out.to_csv('gpt_bio_result.csv')"
   ]
  }
 ],
 "metadata": {
  "@webio": {
   "lastCommId": null,
   "lastKernelId": null
  },
  "kernelspec": {
   "display_name": "Python 3.9.7 ('base')",
   "language": "python",
   "name": "python3"
  },
  "language_info": {
   "codemirror_mode": {
    "name": "ipython",
    "version": 3
   },
   "file_extension": ".py",
   "mimetype": "text/x-python",
   "name": "python",
   "nbconvert_exporter": "python",
   "pygments_lexer": "ipython3",
   "version": "3.9.7"
  },
  "toc": {
   "base_numbering": 1,
   "nav_menu": {},
   "number_sections": true,
   "sideBar": true,
   "skip_h1_title": false,
   "title_cell": "Table of Contents",
   "title_sidebar": "Contents",
   "toc_cell": false,
   "toc_position": {},
   "toc_section_display": true,
   "toc_window_display": false
  },
  "vscode": {
   "interpreter": {
    "hash": "526a3113e883f61beef86ede594754d8bd591cb31b4b3261c1dfaa691314bdad"
   }
  }
 },
 "nbformat": 4,
 "nbformat_minor": 5
}
