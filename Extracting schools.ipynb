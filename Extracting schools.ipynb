{
 "cells": [
  {
   "cell_type": "code",
   "execution_count": 1,
   "metadata": {},
   "outputs": [],
   "source": [
    "import numpy as np\n",
    "import pandas as pd"
   ]
  },
  {
   "cell_type": "code",
   "execution_count": 2,
   "metadata": {},
   "outputs": [],
   "source": [
    "df = pd.read_csv('results/sample_bios_after109nd.csv')"
   ]
  },
  {
   "cell_type": "code",
   "execution_count": 8,
   "metadata": {},
   "outputs": [],
   "source": [
    "# create a version for viewing the bios\n",
    "\n",
    "sample_bios = list(df.bio)\n",
    "result = ''\n",
    "for bio in sample_bios:\n",
    "    result += bio\n",
    "    result += '\\n\\n'\n",
    "\n",
    "with open('results/view_bio.txt', 'w') as f:\n",
    "    f.write(result)"
   ]
  },
  {
   "cell_type": "code",
   "execution_count": 9,
   "metadata": {},
   "outputs": [],
   "source": [
    "# parsing the bios using semicolons\n",
    "\n",
    "for i in range(len(sample_bios)):\n",
    "    sample_bios[i] = sample_bios[i].split(';')"
   ]
  },
  {
   "cell_type": "code",
   "execution_count": 13,
   "metadata": {},
   "outputs": [
    {
     "name": "stdout",
     "output_type": "stream",
     "text": [
      "s High School, Flint, Mich., 1947\n",
      " York Road High School, Charlotte, N.C., 1963\n",
      " attended Aurora Central High School, Aurora, Colo.\n",
      "3\n"
     ]
    }
   ],
   "source": [
    "hs = 0\n",
    "nograd = 0\n",
    "\n",
    "for bio in sample_bios:\n",
    "    for sentence in bio:\n",
    "        if 'High School' in sentence:\n",
    "            hs += 1\n",
    "            if 'graduated' not in sentence:\n",
    "                nograd += 1\n",
    "                print(sentence)\n",
    "\n",
    "print(nograd)"
   ]
  },
  {
   "cell_type": "code",
   "execution_count": null,
   "metadata": {},
   "outputs": [],
   "source": []
  }
 ],
 "metadata": {
  "kernelspec": {
   "display_name": "Python 3.9.7 ('base')",
   "language": "python",
   "name": "python3"
  },
  "language_info": {
   "codemirror_mode": {
    "name": "ipython",
    "version": 3
   },
   "file_extension": ".py",
   "mimetype": "text/x-python",
   "name": "python",
   "nbconvert_exporter": "python",
   "pygments_lexer": "ipython3",
   "version": "3.9.7"
  },
  "orig_nbformat": 4,
  "vscode": {
   "interpreter": {
    "hash": "526a3113e883f61beef86ede594754d8bd591cb31b4b3261c1dfaa691314bdad"
   }
  }
 },
 "nbformat": 4,
 "nbformat_minor": 2
}
