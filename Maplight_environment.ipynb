{
 "cells": [
  {
   "cell_type": "code",
   "execution_count": 1,
   "metadata": {},
   "outputs": [],
   "source": [
    "import pandas as pd"
   ]
  },
  {
   "cell_type": "code",
   "execution_count": 2,
   "metadata": {},
   "outputs": [],
   "source": [
    "df = pd.read_csv(\"BillPositions_FlatFile_20190515.csv\")"
   ]
  },
  {
   "cell_type": "code",
   "execution_count": 3,
   "metadata": {},
   "outputs": [],
   "source": [
    "orgs = df['org_nam'].unique()"
   ]
  },
  {
   "cell_type": "code",
   "execution_count": 6,
   "metadata": {},
   "outputs": [
    {
     "data": {
      "text/plain": [
       "18712"
      ]
     },
     "execution_count": 6,
     "metadata": {},
     "output_type": "execute_result"
    }
   ],
   "source": [
    "len(orgs)"
   ]
  },
  {
   "cell_type": "code",
   "execution_count": 34,
   "metadata": {},
   "outputs": [],
   "source": [
    "my_list = ['Greenpeace', 'Earth Institute Center for Environmental Research and Conservation', \\\n",
    "    'Earth Island Institute', 'Earth Justice', 'Nature Friends International', 'Global Footprint Network', \\\n",
    "    'Nature Conservancy', 'Wetlands International', 'World Wildlife Fund', \\\n",
    "    'International Union for Conservation of Nature', 'Natural Resources Defense Council', \\\n",
    "    'World Agroforestry Centre', 'Fauna and Flora International', 'WWF', 'Conservation International', \\\n",
    "    '350.org', \"LAUDATO SI\\' MOVEMENT\", 'Earthworks', 'Climate Foundation', 'Rainforest Action Network'\\\n",
    "    'Friends of the Earth', 'Earthjustice', 'Global Footprint Network', 'Depave',\\\n",
    "    'Earth Day Network', 'Rainforest Alliance']"
   ]
  },
  {
   "cell_type": "code",
   "execution_count": 35,
   "metadata": {},
   "outputs": [
    {
     "name": "stdout",
     "output_type": "stream",
     "text": [
      "Greenpeace\n",
      "Earth Island Institute\n",
      "Nature Conservancy\n",
      "World Wildlife Fund\n",
      "Natural Resources Defense Council\n",
      "Conservation International\n",
      "350.org\n",
      "Earthjustice\n",
      "Earth Day Network\n"
     ]
    }
   ],
   "source": [
    "for org in my_list:\n",
    "    if org in orgs:\n",
    "        print(org)"
   ]
  }
 ],
 "metadata": {
  "kernelspec": {
   "display_name": "Python 3.9.7 ('base')",
   "language": "python",
   "name": "python3"
  },
  "language_info": {
   "codemirror_mode": {
    "name": "ipython",
    "version": 3
   },
   "file_extension": ".py",
   "mimetype": "text/x-python",
   "name": "python",
   "nbconvert_exporter": "python",
   "pygments_lexer": "ipython3",
   "version": "3.9.7"
  },
  "orig_nbformat": 4,
  "vscode": {
   "interpreter": {
    "hash": "526a3113e883f61beef86ede594754d8bd591cb31b4b3261c1dfaa691314bdad"
   }
  }
 },
 "nbformat": 4,
 "nbformat_minor": 2
}
