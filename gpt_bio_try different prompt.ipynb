{
 "cells": [
  {
   "cell_type": "code",
   "execution_count": 1,
   "id": "480265dc",
   "metadata": {},
   "outputs": [],
   "source": [
    "# !pip install --upgrade openai"
   ]
  },
  {
   "cell_type": "code",
   "execution_count": 2,
   "id": "f2e602e4",
   "metadata": {},
   "outputs": [],
   "source": [
    "import pandas as pd\n",
    "import numpy as np\n",
    "import random\n",
    "import json\n",
    "import redis\n",
    "\n",
    "import openai"
   ]
  },
  {
   "cell_type": "code",
   "execution_count": 3,
   "id": "24d6fe7e",
   "metadata": {},
   "outputs": [],
   "source": [
    "import os\n",
    "\n",
    "with open('/Users/elainewei/Desktop/chatgpt-api-key') as f:\n",
    "    openai.api_key = f.read()\n",
    "    os.environ[\"OPENAI_API_KEY\"] = f.read()"
   ]
  },
  {
   "cell_type": "code",
   "execution_count": 4,
   "id": "6ee1664d",
   "metadata": {},
   "outputs": [],
   "source": [
    "# caching\n",
    "redis_client = redis.Redis(host = 'localhost', port = 6379, db = 0)"
   ]
  },
  {
   "cell_type": "code",
   "execution_count": 5,
   "id": "646bf0f7",
   "metadata": {},
   "outputs": [
    {
     "data": {
      "text/html": [
       "<div>\n",
       "<style scoped>\n",
       "    .dataframe tbody tr th:only-of-type {\n",
       "        vertical-align: middle;\n",
       "    }\n",
       "\n",
       "    .dataframe tbody tr th {\n",
       "        vertical-align: top;\n",
       "    }\n",
       "\n",
       "    .dataframe thead th {\n",
       "        text-align: right;\n",
       "    }\n",
       "</style>\n",
       "<table border=\"1\" class=\"dataframe\">\n",
       "  <thead>\n",
       "    <tr style=\"text-align: right;\">\n",
       "      <th></th>\n",
       "      <th>id</th>\n",
       "      <th>bio</th>\n",
       "    </tr>\n",
       "  </thead>\n",
       "  <tbody>\n",
       "    <tr>\n",
       "      <th>0</th>\n",
       "      <td>E000293</td>\n",
       "      <td>A Representative from Connecticut; born in Oak...</td>\n",
       "    </tr>\n",
       "    <tr>\n",
       "      <th>1</th>\n",
       "      <td>K000394</td>\n",
       "      <td>A Representative from New Jersey; born in Bost...</td>\n",
       "    </tr>\n",
       "    <tr>\n",
       "      <th>2</th>\n",
       "      <td>T000478</td>\n",
       "      <td>A Representative from New York; born in New Ha...</td>\n",
       "    </tr>\n",
       "    <tr>\n",
       "      <th>3</th>\n",
       "      <td>M000523</td>\n",
       "      <td>A Representative from Georgia; born in Atlanta...</td>\n",
       "    </tr>\n",
       "    <tr>\n",
       "      <th>4</th>\n",
       "      <td>F000479</td>\n",
       "      <td>a Senator from Pennsylvania; born in Reading, ...</td>\n",
       "    </tr>\n",
       "  </tbody>\n",
       "</table>\n",
       "</div>"
      ],
      "text/plain": [
       "        id                                                bio\n",
       "0  E000293  A Representative from Connecticut; born in Oak...\n",
       "1  K000394  A Representative from New Jersey; born in Bost...\n",
       "2  T000478  A Representative from New York; born in New Ha...\n",
       "3  M000523  A Representative from Georgia; born in Atlanta...\n",
       "4  F000479  a Senator from Pennsylvania; born in Reading, ..."
      ]
     },
     "execution_count": 5,
     "metadata": {},
     "output_type": "execute_result"
    }
   ],
   "source": [
    "df = pd.read_csv('results/sample_bios_after109nd.csv')\n",
    "df.head()"
   ]
  },
  {
   "cell_type": "code",
   "execution_count": 6,
   "id": "d3ae206d",
   "metadata": {},
   "outputs": [],
   "source": [
    "sample_ids = list(df.id[3:6])\n",
    "sample_bios = list(df.bio[3:6])"
   ]
  },
  {
   "cell_type": "code",
   "execution_count": 7,
   "id": "42092789",
   "metadata": {},
   "outputs": [],
   "source": [
    "prompt_pre = open(\"prompt.txt\", \"r\").read()"
   ]
  },
  {
   "cell_type": "code",
   "execution_count": 8,
   "id": "42602cd0",
   "metadata": {},
   "outputs": [],
   "source": [
    "# # example\n",
    "# completion = openai.ChatCompletion.create(\n",
    "#     model='gpt-3.5-turbo', \n",
    "#     messages=[{'role':'user', 'content': prompt_pre + sample_bios[2]}]\n",
    "# )\n",
    "# print(completion)"
   ]
  },
  {
   "cell_type": "code",
   "execution_count": 9,
   "id": "da8349dd",
   "metadata": {},
   "outputs": [],
   "source": [
    "# generalized function\n",
    "def gen_table(id, bio, update=None):\n",
    "    \"\"\"\n",
    "    Takes in a bio, let chatGPT generate the table, and outputs the table\n",
    "    \"\"\"\n",
    "    table_key = f\"politician_{id}\"\n",
    "    table = redis_client.get(table_key)\n",
    "\n",
    "    if update:\n",
    "        table = None\n",
    "\n",
    "    if not table:\n",
    "        print('Could not find table in cache. Retrieving from Chat GPT API...')\n",
    "        prompt = prompt_pre + bio\n",
    "        completion = openai.ChatCompletion.create(\n",
    "            model='gpt-3.5-turbo', \n",
    "            temperature=0,\n",
    "            messages=[{'role':'user', 'content': prompt}]\n",
    "        )\n",
    "\n",
    "        table = completion.choices[0].message.content\n",
    "        redis_client.set(table_key, json.dumps(table))\n",
    "    \n",
    "    else:\n",
    "        print('Found table in cache, serving from redis...')\n",
    "        table = json.loads(table)\n",
    "\n",
    "    return table"
   ]
  },
  {
   "cell_type": "code",
   "execution_count": 10,
   "id": "abf6da41",
   "metadata": {},
   "outputs": [
    {
     "name": "stdout",
     "output_type": "stream",
     "text": [
      "Could not find table in cache. Retrieving from Chat GPT API...\n",
      "Could not find table in cache. Retrieving from Chat GPT API...\n",
      "Could not find table in cache. Retrieving from Chat GPT API...\n"
     ]
    }
   ],
   "source": [
    "tables = []\n",
    "for i in range(len(sample_bios)):\n",
    "    table = gen_table(sample_ids[i], sample_bios[i], update=True)\n",
    "    tables.append(table)"
   ]
  },
  {
   "cell_type": "code",
   "execution_count": 11,
   "id": "d1daad11",
   "metadata": {},
   "outputs": [
    {
     "name": "stdout",
     "output_type": "stream",
     "text": [
      "M000523\n",
      "A Representative from Georgia; born in Atlanta, Fulton County, Ga., March 17, 1955; graduated St. Joseph High School; B.A., University of Southern California, Los Angeles, Calif., 1978; attended Fletcher School of Law and Diplomacy, Medford, Mass.; diplomatic fellow, Spellman College, Atlanta, Ga., 1984; faculty member, Clark Atlanta University and Agnes Scott College; member of the Georgia state house of representatives, 1988-1992; elected as a Democrat to the One Hundred Third and to the four succeeding Congresses (January 3, 1993-January 3, 2003); unsuccessful candidate for nomination to the One Hundred Eighth Congress in 2002; elected as a Democrat to the One Hundred Ninth Congress (January 3, 2005-January 3, 2007); unsuccessful candidate for nomination to the One Hundred Tenth Congress in 2006; unsuccessful Green Party candidate for election for President of the United States in 2008.\n",
      "Time Period | Location\n",
      "--- | ---\n",
      "1955-1971 | Atlanta, Fulton County, Ga.\n",
      "1971-1978 | Los Angeles, Calif.\n",
      "1978-1984 | Medford, Mass.\n",
      "1984-2021 | Atlanta, Ga.\n",
      "1988-1992 | Georgia state house of representatives\n",
      "1993-2003 | Congress\n",
      "2005-2007 | Congress\n",
      "2008 | United States (Green Party candidate for President)\n",
      "F000479\n",
      "a Senator from Pennsylvania; born in Reading, Penn., August 15, 1969; graduated Central York High School, York, Penn., 1987; B.A., business administration, Albright College, Reading, Penn., 1991; M.B.A., University of Connecticut, 1993; M.P.P., Kennedy School of Government, Harvard University, 1999; insurance underwriter; social worker; non-profit organization founder; mayor of Braddock, Penn., 2006-2019; lieutenant governor of Pennsylvania 2019-2023; elected as a Democrat to the United States Senate in 2022 for the term ending January 3, 2029.\n",
      "Time Period | Location\n",
      "--- | ---\n",
      "1969-1987 | Reading, Penn.\n",
      "1987-1991 | York, Penn.\n",
      "1991-1993 | University of Connecticut\n",
      "1993-1999 | Harvard University\n",
      "1999-2021 | Various locations for work\n",
      "2006-2019 | Braddock, Penn.\n",
      "2019-2023 | Pennsylvania\n",
      "2023-2029 | United States Senate\n",
      "F000454\n",
      "A Representative from Illinois; born in Madison, Wis., October 7, 1955; B.A. University of Wisconsin, Madison, Dane County, Wis., 1975; Ph.D., Harvard University, Cambridge, Mass., 1984; physicist; senior physicist, Fermi National Accelerator Laboratory; entrepreneur; fellow, American Physical Society; elected as a Democrat to the One Hundred Tenth Congress, by special election, to fill the vacancy caused by the resignation of United States Representative John Dennis Hastert, and reelected to the succeeding Congress (March 8, 2008-January 3, 2011); unsuccessful candidate for reelection to the One Hundred Twelfth Congress in 2010; elected as a Democrat to the One Hundred Thirteenth and to the five succeeding Congresses (January 3, 2013-present).\n",
      "Time Period | Location\n",
      "--- | ---\n",
      "1955-1975 | Madison, Wis.\n",
      "1975-1984 | Cambridge, Mass.\n",
      "1984-2021 | Fermi National Accelerator Laboratory\n",
      "2008-2011 | Congress\n",
      "2013-present | Congress\n",
      "\n"
     ]
    }
   ],
   "source": [
    "sample = ''\n",
    "for i in range(len(tables)):\n",
    "    sample += sample_ids[i] + '\\n'\n",
    "    sample += sample_bios[i] + '\\n'\n",
    "    sample += tables[i] + '\\n'\n",
    "print(sample)"
   ]
  },
  {
   "cell_type": "code",
   "execution_count": 12,
   "id": "181d1510",
   "metadata": {},
   "outputs": [],
   "source": [
    "with open('results/sample_tables.txt', 'w') as f:\n",
    "    f.write('sample')"
   ]
  }
 ],
 "metadata": {
  "@webio": {
   "lastCommId": null,
   "lastKernelId": null
  },
  "kernelspec": {
   "display_name": "Python 3.9.7 ('base')",
   "language": "python",
   "name": "python3"
  },
  "language_info": {
   "codemirror_mode": {
    "name": "ipython",
    "version": 3
   },
   "file_extension": ".py",
   "mimetype": "text/x-python",
   "name": "python",
   "nbconvert_exporter": "python",
   "pygments_lexer": "ipython3",
   "version": "3.9.7"
  },
  "toc": {
   "base_numbering": 1,
   "nav_menu": {},
   "number_sections": true,
   "sideBar": true,
   "skip_h1_title": false,
   "title_cell": "Table of Contents",
   "title_sidebar": "Contents",
   "toc_cell": false,
   "toc_position": {},
   "toc_section_display": true,
   "toc_window_display": false
  },
  "vscode": {
   "interpreter": {
    "hash": "526a3113e883f61beef86ede594754d8bd591cb31b4b3261c1dfaa691314bdad"
   }
  }
 },
 "nbformat": 4,
 "nbformat_minor": 5
}
