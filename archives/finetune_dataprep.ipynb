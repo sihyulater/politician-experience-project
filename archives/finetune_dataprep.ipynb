{
 "cells": [
  {
   "cell_type": "code",
   "execution_count": 1,
   "metadata": {},
   "outputs": [],
   "source": [
    "import pandas as pd\n",
    "import numpy as np"
   ]
  },
  {
   "cell_type": "code",
   "execution_count": 2,
   "metadata": {},
   "outputs": [
    {
     "data": {
      "text/html": [
       "<div>\n",
       "<style scoped>\n",
       "    .dataframe tbody tr th:only-of-type {\n",
       "        vertical-align: middle;\n",
       "    }\n",
       "\n",
       "    .dataframe tbody tr th {\n",
       "        vertical-align: top;\n",
       "    }\n",
       "\n",
       "    .dataframe thead th {\n",
       "        text-align: right;\n",
       "    }\n",
       "</style>\n",
       "<table border=\"1\" class=\"dataframe\">\n",
       "  <thead>\n",
       "    <tr style=\"text-align: right;\">\n",
       "      <th></th>\n",
       "      <th>usCongressBioId</th>\n",
       "      <th>profileText</th>\n",
       "    </tr>\n",
       "  </thead>\n",
       "  <tbody>\n",
       "    <tr>\n",
       "      <th>0</th>\n",
       "      <td>D000504</td>\n",
       "      <td>A Representative from Virginia; born in Lawren...</td>\n",
       "    </tr>\n",
       "    <tr>\n",
       "      <th>1</th>\n",
       "      <td>B000107</td>\n",
       "      <td>A Representative from Illinois; born in Millst...</td>\n",
       "    </tr>\n",
       "    <tr>\n",
       "      <th>2</th>\n",
       "      <td>R000358</td>\n",
       "      <td>A Representative and a Senator from Kentucky; ...</td>\n",
       "    </tr>\n",
       "    <tr>\n",
       "      <th>3</th>\n",
       "      <td>S000930</td>\n",
       "      <td>A Representative from New York; born near Beem...</td>\n",
       "    </tr>\n",
       "    <tr>\n",
       "      <th>4</th>\n",
       "      <td>P000255</td>\n",
       "      <td>A Delegate from Pennsylvania; born near Philad...</td>\n",
       "    </tr>\n",
       "    <tr>\n",
       "      <th>5</th>\n",
       "      <td>B000123</td>\n",
       "      <td>A Representative from Pennsylvania; born on a ...</td>\n",
       "    </tr>\n",
       "    <tr>\n",
       "      <th>6</th>\n",
       "      <td>P000039</td>\n",
       "      <td>A Representative from New York; born in Hoosic...</td>\n",
       "    </tr>\n",
       "    <tr>\n",
       "      <th>7</th>\n",
       "      <td>B000161</td>\n",
       "      <td>A Representative from Georgia; born in Amherst...</td>\n",
       "    </tr>\n",
       "    <tr>\n",
       "      <th>8</th>\n",
       "      <td>K000314</td>\n",
       "      <td>A Representative from Iowa; born near Dodgevil...</td>\n",
       "    </tr>\n",
       "    <tr>\n",
       "      <th>9</th>\n",
       "      <td>T000101</td>\n",
       "      <td>A Representative from Ohio; born in Bedford, C...</td>\n",
       "    </tr>\n",
       "  </tbody>\n",
       "</table>\n",
       "</div>"
      ],
      "text/plain": [
       "  usCongressBioId                                        profileText\n",
       "0         D000504  A Representative from Virginia; born in Lawren...\n",
       "1         B000107  A Representative from Illinois; born in Millst...\n",
       "2         R000358  A Representative and a Senator from Kentucky; ...\n",
       "3         S000930  A Representative from New York; born near Beem...\n",
       "4         P000255  A Delegate from Pennsylvania; born near Philad...\n",
       "5         B000123  A Representative from Pennsylvania; born on a ...\n",
       "6         P000039  A Representative from New York; born in Hoosic...\n",
       "7         B000161  A Representative from Georgia; born in Amherst...\n",
       "8         K000314  A Representative from Iowa; born near Dodgevil...\n",
       "9         T000101  A Representative from Ohio; born in Bedford, C..."
      ]
     },
     "execution_count": 2,
     "metadata": {},
     "output_type": "execute_result"
    }
   ],
   "source": [
    "df = pd.read_csv('samplebios.csv')\n",
    "df"
   ]
  },
  {
   "cell_type": "code",
   "execution_count": 3,
   "metadata": {},
   "outputs": [],
   "source": [
    "result = [''] * len(df)"
   ]
  },
  {
   "cell_type": "code",
   "execution_count": 4,
   "metadata": {},
   "outputs": [
    {
     "name": "stdout",
     "output_type": "stream",
     "text": [
      "A Representative from Virginia; born in Lawrenceville, Brunswick County, Va., May 15, 1797; completed preparatory studies; studied law; was admitted to the bar and practiced; member of the State house of representatives 1823-1826; member of the State senate 1826-1835; delegate to the State constitutional convention in 1829; elected as a Jacksonian to the Twenty-fourth Congress and reelected as a Democrat to the Twenty-fifth and Twenty-sixth Congresses (March 4, 1835-March 3, 1841); declined to be a candidate for reelection in 1840 to the Twenty-seventh Congress; elected as a Democrat to the Twenty-eighth, Twenty-ninth, and Thirtieth Congresses and served from March 4, 1843, until his death on his estate in Brunswick County, Va., April 27, 1847; interment in the family burying ground south of the Meherrin River.\n"
     ]
    }
   ],
   "source": [
    "print(df.profileText[0])"
   ]
  },
  {
   "cell_type": "markdown",
   "metadata": {},
   "source": [
    "Time period | Location\n",
    "--- | ---\n",
    "1797-1843 | Lawrenceville, Brunswick County, Va.\n",
    "1843-1847 | Brunswick County, Va."
   ]
  },
  {
   "cell_type": "code",
   "execution_count": 5,
   "metadata": {},
   "outputs": [],
   "source": [
    "result[0] = \"\"\" Time period | Location\n",
    "--- | ---\n",
    "1797-1843 | Lawrenceville, Brunswick County, Va.\n",
    "1843-1847 | Brunswick County, Va.\n",
    "\"\"\""
   ]
  },
  {
   "cell_type": "code",
   "execution_count": 6,
   "metadata": {},
   "outputs": [
    {
     "name": "stdout",
     "output_type": "stream",
     "text": [
      "A Representative from Illinois; born in Millstadt, St. Clair County, Ill., February 5, 1860; attended the public schools; engaged in agricultural pursuits, milling, and banking; member of the Millstadt Board of Education and served as president 1892-1917; member of the St. Clair County Board of Supervisors 1897-1913, serving as presiding officer from 1908 to 1911; member of the Democratic county central committee 1905-1913; elected as a Democrat to the Sixty-third Congress (March 4, 1913-March 3, 1915); unsuccessful candidate for reelection in 1914 to the Sixty-fourth Congress; mayor of Millstadt six years; resumed agricultural and industrial pursuits at Millstadt, Ill., until his death there August 22, 1943; interment in Mount Evergreen Cemetery.\n"
     ]
    }
   ],
   "source": [
    "print(df.profileText[1])"
   ]
  },
  {
   "cell_type": "markdown",
   "metadata": {},
   "source": [
    "Time period | Location\n",
    "--- | ---\n",
    "1860-1892 | Millstadt, St. Clair County, Ill.\n",
    "1892-1917 | Millstadt, St. Clair County, Ill.\n",
    "1917-1943 | Millstadt, St. Clair County, Ill."
   ]
  },
  {
   "cell_type": "code",
   "execution_count": 7,
   "metadata": {},
   "outputs": [],
   "source": [
    "result[1] = \"\"\" 1860-1892 | Millstadt, St. Clair County, Ill.\n",
    "1892-1917 | Millstadt, St. Clair County, Ill.\n",
    "1917-1943 | Millstadt, St. Clair County, Ill.\n",
    "\"\"\""
   ]
  },
  {
   "cell_type": "code",
   "execution_count": 8,
   "metadata": {},
   "outputs": [
    {
     "name": "stdout",
     "output_type": "stream",
     "text": [
      "A Representative and a Senator from Kentucky; born near Berlin, Bracken County, Ky., January 2, 1873; attended the common schools, the National Northern University in Ada, Ohio, and Holbrook College in Knoxville, Tenn.; graduated from the National Normal University, Lebanon, Ohio, and from the law department of Centre College, Danville, Ky., in 1900; taught in the public schools of Kentucky for several years and in Union College, Barbourville, Ky.; admitted to the bar in 1898 and commenced practice at Barbourville, Ky., president of the First National Bank of Barbourville, Ky.; elected as a Republican to the Sixty-sixth and to the five succeeding Congresses and served from March 4, 1919, until January 10, 1930, when he resigned to serve as United States Senator; chairman, Committee on Mines and Mining (Sixty-eighth through Seventy-first Congresses); appointed on January 9, 1930, as a Republican to the Senate to fill the vacancy caused by the resignation of Frederick M. Sackett and served from January 11, 1930, to November 30, 1930; unsuccessful candidate for election to the vacancy and also for the full term in 1930; resumed the practice of law; elected to the Seventy-fourth and to the six succeeding Congresses and served from January 3, 1935, until his death in Barbourville, Ky., February 17, 1948; interment in Barbourville Cemetery.\n"
     ]
    }
   ],
   "source": [
    "print(df.profileText[2])"
   ]
  },
  {
   "cell_type": "markdown",
   "metadata": {},
   "source": [
    "Time period | Location\n",
    "--- | ---\n",
    "1873-1889 | Berlin, Bracken County, Ky.\n",
    "1889-1891 | Ada, Ohio\n",
    "1891-1893 | Knoxville, Tenn.\n",
    "1893-1897 | Lebanon, Ohio\n",
    "1897-1898 | Danville, Ky.\n",
    "1898-1919 | Barbourville, Ky.\n",
    "1919-1948 | Barbourville, Ky.\n"
   ]
  },
  {
   "cell_type": "code",
   "execution_count": 9,
   "metadata": {},
   "outputs": [],
   "source": [
    "result[2] = \"\"\" Time period | Location\n",
    "--- | ---\n",
    "1873-1889 | Berlin, Bracken County, Ky.\n",
    "1889-1891 | Ada, Ohio\n",
    "1891-1893 | Knoxville, Tenn.\n",
    "1893-1897 | Lebanon, Ohio\n",
    "1897-1898 | Danville, Ky.\n",
    "1898-1919 | Barbourville, Ky.\n",
    "1919-1948 | Barbourville, Ky.\n",
    "\"\"\""
   ]
  },
  {
   "cell_type": "code",
   "execution_count": 10,
   "metadata": {},
   "outputs": [
    {
     "name": "stdout",
     "output_type": "stream",
     "text": [
      "A Representative from New York; born near Beemerville, Sussex County, N.J., December 30, 1828; attended common and private schools and Mount Retirement Seminary in Wantage, Sussex County, N.J.; moved with his father to Ridgebury, N.Y., in 1845 and completed his education; taught school; engaged in mercantile pursuits in Ridgebury and later in Middletown, N.Y., 1855-1864; clerk of Orange County 1864-1867 and resided in Goshen, N.Y.; returned to Middletown and became proprietor of the Orange County Press in 1868 and was also one of the proprietors and editors of the Middletown Daily Press; appointed by President Grant as United States collector of internal revenue for the eleventh district of New York in 1869 and served until 1883; delegate to the Republican National Convention in 1880; engaged in banking; unsuccessful Republican candidate for election in 1884 to the Forty-ninth Congress to fill the vacancy caused by the death of Lewis Beach and for election in 1886 to the Fiftieth Congress; elected as a Republican to the Fifty-first Congress (March 4, 1889-March 3, 1891); was not a candidate for renomination in 1890; engaged in banking; died in Middletown, N.Y., February 2, 1895; interment in Hillside Cemetery.\n"
     ]
    }
   ],
   "source": [
    "print(df.profileText[3])"
   ]
  },
  {
   "cell_type": "markdown",
   "metadata": {},
   "source": [
    "Time period | Location\n",
    "--- | ---\n",
    "1828-1845 | Beemerville, Sussex County, N.J.\n",
    "1845-1849 | Ridgebury, N.Y.\n",
    "1849-1855 | Ridgebury, N.Y.\n",
    "1855-1864 | Middletown, N.Y.\n",
    "1864-1867 | Orange County, N.Y.\n",
    "1868-1895 | Middletown, N.Y."
   ]
  },
  {
   "cell_type": "code",
   "execution_count": 11,
   "metadata": {},
   "outputs": [],
   "source": [
    "result[3] = \"\"\" Time period | Location\n",
    "--- | ---\n",
    "1828-1845 | Beemerville, Sussex County, N.J.\n",
    "1845-1849 | Ridgebury, N.Y.\n",
    "1849-1855 | Ridgebury, N.Y.\n",
    "1855-1864 | Middletown, N.Y.\n",
    "1864-1867 | Orange County, N.Y.\n",
    "1868-1895 | Middletown, N.Y.\n",
    "\"\"\""
   ]
  },
  {
   "cell_type": "code",
   "execution_count": 12,
   "metadata": {},
   "outputs": [
    {
     "name": "stdout",
     "output_type": "stream",
     "text": [
      "A Delegate from Pennsylvania; born near Philadelphia, Pa., June 22, 1744; was graduated from the University of Pennsylvania at Philadelphia in 1761; studied law; was admitted to the bar and commenced practice in Philadelphia; register of the admiralty from 1771 until the Revolution; entered the Revolutionary Army and served as captain in 1771; served as secretary of the Continental Board of War from June 13, 1776, to June 8, 1781; Member of the Continental Congress in 1782 and 1783; member of the state assembly 1787-1790 and served as speaker; served in the state senate in 1791 and was speaker; judge of the district court of Pennsylvania 1792-1828; died in Philadelphia, Pa., August 22, 1828; interment in St. Peter's Churchyard.\n"
     ]
    }
   ],
   "source": [
    "print(df.profileText[4])"
   ]
  },
  {
   "cell_type": "markdown",
   "metadata": {},
   "source": [
    "Time period | Location\n",
    "--- | ---\n",
    "1744-1757 | Philadelphia, Pa.\n",
    "1757-1761 | Philadelphia, Pa.\n",
    "1761-1775 | Philadelphia, Pa.\n",
    "1776-1781 | unknown\n",
    "1781-1783 | unknown\n",
    "1787-1790 | Philadelphia, Pa.\n",
    "1790-1792 | Philadelphia, Pa.\n",
    "1792-1828 | Philadelphia, Pa."
   ]
  },
  {
   "cell_type": "code",
   "execution_count": 13,
   "metadata": {},
   "outputs": [],
   "source": [
    "result[4] = \"\"\" Time period | Location\n",
    "--- | ---\n",
    "1744-1757 | Philadelphia, Pa.\n",
    "1757-1761 | Philadelphia, Pa.\n",
    "1761-1775 | Philadelphia, Pa.\n",
    "1776-1781 | unknown\n",
    "1781-1783 | unknown\n",
    "1787-1790 | Philadelphia, Pa.\n",
    "1790-1792 | Philadelphia, Pa.\n",
    "1792-1828 | Philadelphia, Pa.\n",
    "\"\"\""
   ]
  },
  {
   "cell_type": "code",
   "execution_count": 14,
   "metadata": {},
   "outputs": [
    {
     "name": "stdout",
     "output_type": "stream",
     "text": [
      "A Representative from Pennsylvania; born on a farm near Mifflinburg, Union County, Pa., October 25, 1848; prepared for college in the Mifflinburg Academy, and was graduated from Lafayette College, Easton, Pa., in 1871; taught school at Mount Carmel and was principal of the Mauch Chunk Public Schools from 1875 to 1880; studied law; was admitted to the bar in Carbon County June 20, 1881, and commenced practice at Mauch Chunk; elected in 1890 a director of the Mauch Chunk School Board and served as president and treasurer; also served as secretary of the town council; unsuccessful candidate for election in 1896 to the Fifty-fifth Congress; elected as a Democrat to the Fifty-sixth Congress (March 4, 1899-March 3, 1901); was not a candidate for renomination in 1900 to the Fifth-seventh Congress; resumed the practice of law in Mauch Chunk; elected president judge of the fifty-sixth judicial district of Pennsylvania in 1913; reelected in 1923 and served from January 5, 1914, until his death in Mauch Chunk, Carbon County, Pa., February 16, 1928; interment in Evergreen Cemetery, East Mauch Chunk, Pa.\n"
     ]
    }
   ],
   "source": [
    "print(df.profileText[5])"
   ]
  },
  {
   "cell_type": "markdown",
   "metadata": {},
   "source": [
    "Time period | Location\n",
    "--- | ---\n",
    "1848-1867 | Mifflinburg, Union County, Pa.\n",
    "1867-1871 | Easton, Pa.\n",
    "1871-1875 | Mount Carmel, Pa.\n",
    "1875-1880 | Mauch Chunk, Pa.\n",
    "1880-1890 | Mauch Chunk, Pa.\n",
    "1890-1928 | Mauch Chunk, Pa."
   ]
  },
  {
   "cell_type": "code",
   "execution_count": 15,
   "metadata": {},
   "outputs": [],
   "source": [
    "result[5] = \"\"\"Time period | Location\n",
    "--- | ---\n",
    "1848-1867 | Mifflinburg, Union County, Pa.\n",
    "1867-1871 | Easton, Pa.\n",
    "1871-1875 | Mount Carmel, Pa.\n",
    "1875-1880 | Mauch Chunk, Pa.\n",
    "1880-1890 | Mauch Chunk, Pa.\n",
    "1890-1928 | Mauch Chunk, Pa.\n",
    "\"\"\""
   ]
  },
  {
   "cell_type": "code",
   "execution_count": 16,
   "metadata": {},
   "outputs": [
    {
     "name": "stdout",
     "output_type": "stream",
     "text": [
      "A Representative from New York; born in Hoosick, Rensselaer County, N.Y., January 13, 1818; attended the common schools, the Schodack Academy, Schodack, N.Y., and Yale College; studied law; was admitted to the bar about 1840 and commenced practice in Plattsburgh, N.Y., surrogate of Clinton County, N.Y.; elected as a Republican to the Thirty-fifth and Thirty-sixth Congresses (March 4, 1857-March 3, 1861); chairman, Committee on Expenditures in the Post Office Department (Thirty-sixth Congress); was not a candidate for renomination in 1860; delegate to the Republican National Convention at Baltimore in 1864; appointed United States consul to Crete by President Lincoln; United States judge on the International Court for Suppression of Slave Trade on the West Coast of Africa from 1866 to 1870, when he resigned; member of the State assembly in 1884 and 1885; engaged in iron manufacturing at Clinton, N.Y.; died in Plattsburgh, N.Y.; March 12, 1916; interment in Riverside Cemetery.\n"
     ]
    }
   ],
   "source": [
    "print(df.profileText[6])"
   ]
  },
  {
   "cell_type": "markdown",
   "metadata": {},
   "source": [
    "Time period | Location\n",
    "--- | ---\n",
    "1818-1830 | Hoosick, Rensselaer County, N.Y.\n",
    "1830-1836 | Schodack, N.Y.\n",
    "1836-1840 | New Haven, N.J.\n",
    "1840-1916 | Plattsburgh, N.Y."
   ]
  },
  {
   "cell_type": "code",
   "execution_count": 17,
   "metadata": {},
   "outputs": [],
   "source": [
    "result[6] = \"\"\"Time period | Location\n",
    "--- | ---\n",
    "1818-1830 | Hoosick, Rensselaer County, N.Y.\n",
    "1830-1836 | Schodack, N.Y.\n",
    "1836-1840 | New Haven, N.J.\n",
    "1840-1916 | Plattsburgh, N.Y.\n",
    "\"\"\""
   ]
  },
  {
   "cell_type": "code",
   "execution_count": 18,
   "metadata": {},
   "outputs": [
    {
     "name": "stdout",
     "output_type": "stream",
     "text": [
      "A Representative from Georgia; born in Amherst County, Va., March 4, 1761; moved to Georgia with his father, who settled in Columbia County; at the outbreak of the Revolutionary War returned to Virginia with his brother and joined a military company from Amherst County under the leadership of the Marquis de Lafayette and was present at the surrender of Cornwallis at Yorktown; returned to Georgia at the close of the war and settled on Broad River, Elbert County; sheriff of Elbert County for several years; member of the State senate and served as pesident of that body; elected as a Republican to the Twelfth Congress to fill the vacancy caused by the resignation of Howell Cobb; reelected to the Thirteenth Congress and served from October 5, 1812, to March 3, 1815; appointed commissioner to establish the boundaries of the Creek Indian Reservation in 1815; moved to Montgomery County, Ala., and engaged in planting; died in Montgomery County, Ala., April 1832; interment in the Gilmer-Christian-Barnett Cemetery, near Mathews Station, Montgomery County, Ala.\n"
     ]
    }
   ],
   "source": [
    "print(df.profileText[7])"
   ]
  },
  {
   "cell_type": "markdown",
   "metadata": {},
   "source": [
    "Time period | Location\n",
    "--- | ---\n",
    "1761-1771 | Amherst County, Va.\n",
    "1771-1775 | Columbia County, Georgia\n",
    "1775-1783 | Amherst County, Va.\n",
    "1783-1820 | Broad River, Elbert County, Georgia\n",
    "1820-1832 | Montgomery County, Ala."
   ]
  },
  {
   "cell_type": "code",
   "execution_count": 19,
   "metadata": {},
   "outputs": [],
   "source": [
    "result[7] = \"\"\"Time period | Location\n",
    "--- | ---\n",
    "1761-1771 | Amherst County, Va.\n",
    "1771-1775 | Columbia County, Georgia\n",
    "1775-1783 | Amherst County, Va.\n",
    "1783-1820 | Broad River, Elbert County, Georgia\n",
    "1820-1832 | Montgomery County, Ala.\n",
    "\"\"\""
   ]
  },
  {
   "cell_type": "code",
   "execution_count": 20,
   "metadata": {},
   "outputs": [
    {
     "name": "stdout",
     "output_type": "stream",
     "text": [
      "A Representative from Iowa; born near Dodgeville, Des Moines County, Iowa, June 20, 1869; attended the common schools; was graduated from Iowa Wesleyan College at Mount Pleasant in 1892 and from the law department of the University of Iowa at Iowa City in 1894; was admitted to the bar in 1894 and commenced practice in Mount Pleasant, Iowa; prosecuting attorney of Henry County 1895-1899; postmaster of Mount Pleasant 1906-1914; member of the board of trustees of Iowa Wesleyan College 1908-1938; member of the State house of representatives 1915-1917; elected as a Republican to the Sixty-seventh and to the five succeeding Congresses (March 4, 1921-March 3, 1933); chairman, Committee on Expenditures in the Department of the Navy (Sixty-eighth Congress), Committee on Labor (Sixty-ninth through Seventy-first Congresses), Committee on Pensions (Seventy-first Congress); unsuccessful candidate for reelection in 1932 to the Seventy-third Congress; engaged in the practice of law at Mount Pleasant, Iowa, until his death there on August 24, 1938; interment in Forest Home Cemetery.\n"
     ]
    }
   ],
   "source": [
    "print(df.profileText[8])"
   ]
  },
  {
   "cell_type": "markdown",
   "metadata": {},
   "source": [
    "Time period | Location\n",
    "--- | ---\n",
    "1869-1888 | Dodgeville, Des Moines County, Iowa\n",
    "1888-1892 | Mount Pleasant, Iowa\n",
    "1892-1894 | Iowa City, Iowa\n",
    "1894-1899 | Mount Pleasant, Iowa\n",
    "1899-1914 | Mount Pleasant, Iowa\n",
    "1914-1938 | Mount Pleasant, Iowa"
   ]
  },
  {
   "cell_type": "code",
   "execution_count": 21,
   "metadata": {},
   "outputs": [],
   "source": [
    "result[8] = \"\"\" Time period | Location\n",
    "--- | ---\n",
    "1869-1888 | Dodgeville, Des Moines County, Iowa\n",
    "1888-1892 | Mount Pleasant, Iowa\n",
    "1892-1894 | Iowa City, Iowa\n",
    "1894-1899 | Mount Pleasant, Iowa\n",
    "1899-1914 | Mount Pleasant, Iowa\n",
    "1914-1938 | Mount Pleasant, Iowa\n",
    "\"\"\""
   ]
  },
  {
   "cell_type": "code",
   "execution_count": 22,
   "metadata": {},
   "outputs": [
    {
     "name": "stdout",
     "output_type": "stream",
     "text": [
      "A Representative from Ohio; born in Bedford, Cuyahoga County, Ohio, December 6, 1845; attended the common schools; enlisted in Company H, One Hundred and Fiftieth Regiment, Ohio Volunteer Infantry, in May 1864 and in August of the same year in Company H, One Hundred and Seventy-seventh Regiment, Ohio Volunteer Infantry, and served until the close of the Civil War; engaged in manufacturing pursuits; member of the Ohio senate 1888-1890; elected as a Republican to the Fifty-second Congress (March 4, 1891-March 3, 1893); was not a candidate for renomination in 1892; president of the Taylor Chair Co., and a resident of Bedford, Ohio, until his death there December 2, 1922; interment in Bedford Cemetery.\n"
     ]
    }
   ],
   "source": [
    "print(df.profileText[9])"
   ]
  },
  {
   "cell_type": "markdown",
   "metadata": {},
   "source": [
    "Time period | Location\n",
    "--- | ---\n",
    "1845-1864 | Bedford, Cuyahoga County, Ohio\n",
    "1865-1922 | Bedford, Cuyahoga County, Ohio"
   ]
  },
  {
   "cell_type": "code",
   "execution_count": 23,
   "metadata": {},
   "outputs": [],
   "source": [
    "result[9] = \"\"\" Time period | Location\n",
    "--- | ---\n",
    "1845-1864 | Bedford, Cuyahoga County, Ohio\n",
    "1865-1922 | Bedford, Cuyahoga County, Ohio\n",
    "\"\"\""
   ]
  },
  {
   "cell_type": "code",
   "execution_count": 24,
   "metadata": {},
   "outputs": [
    {
     "data": {
      "text/html": [
       "<div>\n",
       "<style scoped>\n",
       "    .dataframe tbody tr th:only-of-type {\n",
       "        vertical-align: middle;\n",
       "    }\n",
       "\n",
       "    .dataframe tbody tr th {\n",
       "        vertical-align: top;\n",
       "    }\n",
       "\n",
       "    .dataframe thead th {\n",
       "        text-align: right;\n",
       "    }\n",
       "</style>\n",
       "<table border=\"1\" class=\"dataframe\">\n",
       "  <thead>\n",
       "    <tr style=\"text-align: right;\">\n",
       "      <th></th>\n",
       "      <th>prompt</th>\n",
       "      <th>completion</th>\n",
       "    </tr>\n",
       "  </thead>\n",
       "  <tbody>\n",
       "    <tr>\n",
       "      <th>0</th>\n",
       "      <td>A Representative from Virginia; born in Lawren...</td>\n",
       "      <td>Time period | Location\\n--- | ---\\n1797-1843 ...</td>\n",
       "    </tr>\n",
       "    <tr>\n",
       "      <th>1</th>\n",
       "      <td>A Representative from Illinois; born in Millst...</td>\n",
       "      <td>1860-1892 | Millstadt, St. Clair County, Ill....</td>\n",
       "    </tr>\n",
       "    <tr>\n",
       "      <th>2</th>\n",
       "      <td>A Representative and a Senator from Kentucky; ...</td>\n",
       "      <td>Time period | Location\\n--- | ---\\n1873-1889 ...</td>\n",
       "    </tr>\n",
       "    <tr>\n",
       "      <th>3</th>\n",
       "      <td>A Representative from New York; born near Beem...</td>\n",
       "      <td>Time period | Location\\n--- | ---\\n1828-1845 ...</td>\n",
       "    </tr>\n",
       "    <tr>\n",
       "      <th>4</th>\n",
       "      <td>A Delegate from Pennsylvania; born near Philad...</td>\n",
       "      <td>Time period | Location\\n--- | ---\\n1744-1757 ...</td>\n",
       "    </tr>\n",
       "  </tbody>\n",
       "</table>\n",
       "</div>"
      ],
      "text/plain": [
       "                                              prompt  \\\n",
       "0  A Representative from Virginia; born in Lawren...   \n",
       "1  A Representative from Illinois; born in Millst...   \n",
       "2  A Representative and a Senator from Kentucky; ...   \n",
       "3  A Representative from New York; born near Beem...   \n",
       "4  A Delegate from Pennsylvania; born near Philad...   \n",
       "\n",
       "                                          completion  \n",
       "0   Time period | Location\\n--- | ---\\n1797-1843 ...  \n",
       "1   1860-1892 | Millstadt, St. Clair County, Ill....  \n",
       "2   Time period | Location\\n--- | ---\\n1873-1889 ...  \n",
       "3   Time period | Location\\n--- | ---\\n1828-1845 ...  \n",
       "4   Time period | Location\\n--- | ---\\n1744-1757 ...  "
      ]
     },
     "execution_count": 24,
     "metadata": {},
     "output_type": "execute_result"
    }
   ],
   "source": [
    "df['profileText'] = df['profileText'] + '\\n\\n###\\n\\n'\n",
    "result = [r + '###' for r in result]\n",
    "\n",
    "df = pd.DataFrame(zip(df['profileText'], result), columns=['prompt', 'completion'])\n",
    "df.head()"
   ]
  },
  {
   "cell_type": "code",
   "execution_count": 25,
   "metadata": {},
   "outputs": [],
   "source": [
    "df.to_json(\"sampletables.jsonl\", orient='records', lines=True)"
   ]
  },
  {
   "cell_type": "markdown",
   "metadata": {},
   "source": [
    "Time period | Location\n",
    "--- | ---\n",
    "1850-1871 | Carmi, White County, Ill.\n",
    "1871-1875 | Bloomington, Indiana\n",
    "1875-1876 | Chicago, Ill.\n",
    "1876-1923 | Carmi, Ill."
   ]
  },
  {
   "cell_type": "code",
   "execution_count": 26,
   "metadata": {},
   "outputs": [
    {
     "data": {
      "text/plain": [
       "[' Time period | Location\\n--- | ---\\n1797-1843 | Lawrenceville, Brunswick County, Va.\\n1843-1847 | Brunswick County, Va.\\n###',\n",
       " ' 1860-1892 | Millstadt, St. Clair County, Ill.\\n1892-1917 | Millstadt, St. Clair County, Ill.\\n1917-1943 | Millstadt, St. Clair County, Ill.\\n###',\n",
       " ' Time period | Location\\n--- | ---\\n1873-1889 | Berlin, Bracken County, Ky.\\n1889-1891 | Ada, Ohio\\n1891-1893 | Knoxville, Tenn.\\n1893-1897 | Lebanon, Ohio\\n1897-1898 | Danville, Ky.\\n1898-1919 | Barbourville, Ky.\\n1919-1948 | Barbourville, Ky.\\n###',\n",
       " ' Time period | Location\\n--- | ---\\n1828-1845 | Beemerville, Sussex County, N.J.\\n1845-1849 | Ridgebury, N.Y.\\n1849-1855 | Ridgebury, N.Y.\\n1855-1864 | Middletown, N.Y.\\n1864-1867 | Orange County, N.Y.\\n1868-1895 | Middletown, N.Y.\\n###',\n",
       " ' Time period | Location\\n--- | ---\\n1744-1757 | Philadelphia, Pa.\\n1757-1761 | Philadelphia, Pa.\\n1761-1775 | Philadelphia, Pa.\\n1776-1781 | unknown\\n1781-1783 | unknown\\n1787-1790 | Philadelphia, Pa.\\n1790-1792 | Philadelphia, Pa.\\n1792-1828 | Philadelphia, Pa.\\n###',\n",
       " 'Time period | Location\\n--- | ---\\n1848-1867 | Mifflinburg, Union County, Pa.\\n1867-1871 | Easton, Pa.\\n1871-1875 | Mount Carmel, Pa.\\n1875-1880 | Mauch Chunk, Pa.\\n1880-1890 | Mauch Chunk, Pa.\\n1890-1928 | Mauch Chunk, Pa.\\n###',\n",
       " 'Time period | Location\\n--- | ---\\n1818-1830 | Hoosick, Rensselaer County, N.Y.\\n1830-1836 | Schodack, N.Y.\\n1836-1840 | New Haven, N.J.\\n1840-1916 | Plattsburgh, N.Y.\\n###',\n",
       " 'Time period | Location\\n--- | ---\\n1761-1771 | Amherst County, Va.\\n1771-1775 | Columbia County, Georgia\\n1775-1783 | Amherst County, Va.\\n1783-1820 | Broad River, Elbert County, Georgia\\n1820-1832 | Montgomery County, Ala.\\n###',\n",
       " ' Time period | Location\\n--- | ---\\n1869-1888 | Dodgeville, Des Moines County, Iowa\\n1888-1892 | Mount Pleasant, Iowa\\n1892-1894 | Iowa City, Iowa\\n1894-1899 | Mount Pleasant, Iowa\\n1899-1914 | Mount Pleasant, Iowa\\n1914-1938 | Mount Pleasant, Iowa\\n###',\n",
       " ' Time period | Location\\n--- | ---\\n1845-1864 | Bedford, Cuyahoga County, Ohio\\n1865-1922 | Bedford, Cuyahoga County, Ohio\\n###']"
      ]
     },
     "execution_count": 26,
     "metadata": {},
     "output_type": "execute_result"
    }
   ],
   "source": [
    "result"
   ]
  }
 ],
 "metadata": {
  "kernelspec": {
   "display_name": "Python 3.9.7 ('base')",
   "language": "python",
   "name": "python3"
  },
  "language_info": {
   "codemirror_mode": {
    "name": "ipython",
    "version": 3
   },
   "file_extension": ".py",
   "mimetype": "text/x-python",
   "name": "python",
   "nbconvert_exporter": "python",
   "pygments_lexer": "ipython3",
   "version": "3.9.7"
  },
  "orig_nbformat": 4,
  "vscode": {
   "interpreter": {
    "hash": "526a3113e883f61beef86ede594754d8bd591cb31b4b3261c1dfaa691314bdad"
   }
  }
 },
 "nbformat": 4,
 "nbformat_minor": 2
}
